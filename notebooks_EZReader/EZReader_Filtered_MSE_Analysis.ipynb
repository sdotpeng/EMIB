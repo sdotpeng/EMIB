{
 "cells": [
  {
   "cell_type": "code",
   "execution_count": 163,
   "metadata": {},
   "outputs": [
    {
     "name": "stdout",
     "output_type": "stream",
     "text": [
      "The autoreload extension is already loaded. To reload it, use:\n",
      "  %reload_ext autoreload\n"
     ]
    }
   ],
   "source": [
    "import numpy as np\n",
    "import math\n",
    "import pandas as pd\n",
    "from EZReader import EZReader\n",
    "\n",
    "from itertools import product\n",
    "\n",
    "from tqdm import tqdm\n",
    "\n",
    "%load_ext autoreload\n",
    "%autoreload 2"
   ]
  },
  {
   "cell_type": "code",
   "execution_count": 32,
   "metadata": {},
   "outputs": [],
   "source": [
    "ezreader = EZReader(corpus=\"datasets/1_1_corpus.txt\", \n",
    "                    target=\"datasets/1_1_target.txt\", \n",
    "                    simulation=\"worddvs\", \n",
    "                    num_subject=1000)"
   ]
  },
  {
   "cell_type": "code",
   "execution_count": 6,
   "metadata": {},
   "outputs": [],
   "source": [
    "def get_observation(metric):\n",
    "    df = pd.read_csv('datasets/Eight_Metrics.csv')\n",
    "    df = df[(df['file'] == 11) & (df['subject'] == 1)]\n",
    "\n",
    "    results = [[], [], [], [], []]\n",
    "\n",
    "    for index, row in df.iterrows():\n",
    "        freq = row['freq']\n",
    "        freq_class = math.floor(math.log(freq, 10)) if freq != 0 else 0\n",
    "        results[freq_class].append(row[metric])\n",
    "\n",
    "    observed = []\n",
    "    for clss in results:\n",
    "        observed.append(np.array(clss).mean())\n",
    "\n",
    "    return observed"
   ]
  },
  {
   "cell_type": "code",
   "execution_count": 7,
   "metadata": {},
   "outputs": [],
   "source": [
    "def mse_score(ezreader, metric, observation=None):\n",
    "    if not observation: observation = get_observation(metric)\n",
    "    prediction = ezreader.get_prediction(metric)\n",
    "    return np.square(np.subtract(observation, prediction)).mean()"
   ]
  },
  {
   "cell_type": "code",
   "execution_count": 67,
   "metadata": {},
   "outputs": [],
   "source": [
    "a1 = np.arange(150, 450, 10)\n",
    "a2 = np.arange(1, 5, 0.5)\n",
    "a3 = np.arange(0, 20, 4)\n",
    "d = np.arange(0.1,0.6,0.1)\n",
    "\n",
    "i = np.arange(5, 50, 10)\n",
    "pf = np.arange(0.01, 0.11, 0.05)\n",
    "\n",
    "params = product(a1, a2, a3, d, i, pf)"
   ]
  },
  {
   "cell_type": "code",
   "execution_count": 68,
   "metadata": {},
   "outputs": [
    {
     "name": "stderr",
     "output_type": "stream",
     "text": [
      "100%|██████████| 60000/60000 [11:56:30<00:00,  1.40it/s]  \n"
     ]
    }
   ],
   "source": [
    "results = []\n",
    "\n",
    "for param in tqdm(list(params)):\n",
    "    ezreader.clear_params()\n",
    "    a1, a2, a3, d, i, pf = param\n",
    "    ezreader.set_params(a1=a1,\n",
    "                       a2=a2,\n",
    "                       a3=a3,\n",
    "                       d=d,\n",
    "                       i=i,\n",
    "                       pf=pf)\n",
    "    score = mse_score(ezreader, 'TT')\n",
    "    results.append({tuple(param):score})"
   ]
  },
  {
   "cell_type": "code",
   "execution_count": 123,
   "metadata": {},
   "outputs": [],
   "source": [
    "# Test for 001 in 11\n",
    "\n",
    "a1 = np.arange(200, 230, 5)\n",
    "a2 = np.arange(4.5, 7, 0.5)\n",
    "a3 = np.arange(4, 24, 4)\n",
    "d = np.arange(0.1,0.6,0.1)\n",
    "\n",
    "i = np.arange(25, 40, 5)\n",
    "pf = [0.06]\n",
    "\n",
    "params = product(a1, a2, a3, d, i, pf)"
   ]
  },
  {
   "cell_type": "code",
   "execution_count": 121,
   "metadata": {},
   "outputs": [
    {
     "data": {
      "text/plain": [
       "2250"
      ]
     },
     "execution_count": 121,
     "metadata": {},
     "output_type": "execute_result"
    }
   ],
   "source": [
    "len(list(params))"
   ]
  },
  {
   "cell_type": "code",
   "execution_count": 124,
   "metadata": {},
   "outputs": [
    {
     "name": "stderr",
     "output_type": "stream",
     "text": [
      "100%|██████████| 2250/2250 [6:26:13<00:00, 10.30s/it]      \n"
     ]
    }
   ],
   "source": [
    "results_test = []\n",
    "\n",
    "for param in tqdm(list(params)):\n",
    "    ezreader.clear_params()\n",
    "    a1, a2, a3, d, i, pf = param\n",
    "    ezreader.set_params(a1=a1,\n",
    "                       a2=a2,\n",
    "                       a3=a3,\n",
    "                       d=d,\n",
    "                       i=i,\n",
    "                       pf=pf)\n",
    "    score = mse_score(ezreader, 'TT')\n",
    "    results_test.append({tuple(param):score})"
   ]
  },
  {
   "cell_type": "code",
   "execution_count": 125,
   "metadata": {},
   "outputs": [
    {
     "data": {
      "text/plain": [
       "[[((210, 6.5, 12, 0.5, 35, 0.06), 371.43494574437307)],\n",
       " [((225, 6.5, 4, 0.30000000000000004, 35, 0.06), 377.1402534478497)],\n",
       " [((215, 6.5, 4, 0.4, 35, 0.06), 381.32679706923716)],\n",
       " [((210, 6.5, 20, 0.5, 35, 0.06), 383.9458727047992)],\n",
       " [((210, 6.5, 16, 0.5, 30, 0.06), 389.72833974937384)],\n",
       " [((220, 6.5, 4, 0.30000000000000004, 25, 0.06), 394.20352859207725)],\n",
       " [((215, 6.0, 20, 0.4, 25, 0.06), 397.7152211963714)],\n",
       " [((225, 6.5, 20, 0.30000000000000004, 35, 0.06), 397.76661749502443)],\n",
       " [((215, 6.5, 8, 0.5, 25, 0.06), 410.247637779575)],\n",
       " [((220, 6.5, 8, 0.4, 30, 0.06), 410.5719338656819)]]"
      ]
     },
     "execution_count": 125,
     "metadata": {},
     "output_type": "execute_result"
    }
   ],
   "source": [
    "sorted([list(result.items()) for result in results_test], key=lambda x: x[0][1])[:10]"
   ]
  },
  {
   "cell_type": "code",
   "execution_count": 137,
   "metadata": {},
   "outputs": [
    {
     "data": {
      "text/plain": [
       "461.9333519230478"
      ]
     },
     "execution_count": 137,
     "metadata": {},
     "output_type": "execute_result"
    }
   ],
   "source": [
    "a1, a2, a3, d, i, pf = 225, 6.5, 4, 0.30000000000000004, 35, 0.06\n",
    "\n",
    "\n",
    "ezreader.set_params(a1=a1,\n",
    "                       a2=a2,\n",
    "                       a3=a3,\n",
    "                       d=d,\n",
    "                       i=i,\n",
    "                       pf=pf)\n",
    "score = mse_score(ezreader, 'TT')\n",
    "pred = ezreader.get_prediction('TT')\n",
    "score"
   ]
  },
  {
   "cell_type": "code",
   "execution_count": 107,
   "metadata": {},
   "outputs": [
    {
     "data": {
      "text/plain": [
       "[[((200, 4.5, 16, 0.4, 5, 0.060000000000000005), 580.010775732125)],\n",
       " [((210, 4.5, 16, 0.30000000000000004, 45, 0.060000000000000005),\n",
       "   600.2262578032104)],\n",
       " [((230, 4.5, 0, 0.1, 5, 0.060000000000000005), 637.0711490942311)],\n",
       " [((210, 4.5, 0, 0.30000000000000004, 5, 0.060000000000000005),\n",
       "   638.8503148082846)],\n",
       " [((190, 4.5, 16, 0.5, 45, 0.060000000000000005), 648.7092682635846)],\n",
       " [((220, 4.5, 8, 0.2, 15, 0.060000000000000005), 652.2872481069602)],\n",
       " [((230, 4.5, 0, 0.1, 35, 0.060000000000000005), 652.569818959105)],\n",
       " [((230, 4.5, 4, 0.1, 45, 0.060000000000000005), 655.4575419581961)],\n",
       " [((190, 4.5, 0, 0.5, 45, 0.060000000000000005), 659.1719456769622)],\n",
       " [((220, 4.5, 12, 0.2, 35, 0.060000000000000005), 661.5793699824771)]]"
      ]
     },
     "execution_count": 107,
     "metadata": {},
     "output_type": "execute_result"
    }
   ],
   "source": [
    "results[:3]\n",
    "\n",
    "sorted([list(result.items()) for result in results], key=lambda x: x[0][1])[:10]"
   ]
  },
  {
   "cell_type": "code",
   "execution_count": 112,
   "metadata": {},
   "outputs": [],
   "source": [
    "a1, a2, a3, d, i, pf = 220, 4.5, 12, 0.2, 35, 0.060000000000000005\n",
    "\n",
    "\n",
    "ezreader.set_params(a1=a1,\n",
    "                       a2=a2,\n",
    "                       a3=a3,\n",
    "                       d=d,\n",
    "                       i=i,\n",
    "                       pf=pf)\n",
    "score = mse_score(ezreader, 'TT')"
   ]
  },
  {
   "cell_type": "code",
   "execution_count": 113,
   "metadata": {},
   "outputs": [
    {
     "data": {
      "text/plain": [
       "721.9585306230672"
      ]
     },
     "execution_count": 113,
     "metadata": {},
     "output_type": "execute_result"
    }
   ],
   "source": [
    "score"
   ]
  },
  {
   "cell_type": "code",
   "execution_count": 116,
   "metadata": {},
   "outputs": [],
   "source": [
    "pred = ezreader.get_prediction('TT')"
   ]
  },
  {
   "cell_type": "code",
   "execution_count": 54,
   "metadata": {},
   "outputs": [
    {
     "name": "stdout",
     "output_type": "stream",
     "text": [
      "1487.6837129520352\n",
      "1805.826199196828\n",
      "2507.2494846679183\n",
      "3773.8106584659204\n",
      "5201.541433272173\n",
      "7489.540625917197\n",
      "9788.84232382181\n",
      "12660.419251559162\n",
      "16424.63952103037\n",
      "20225.769490380877\n",
      "24103.563705008422\n",
      "27991.725239254203\n"
     ]
    }
   ],
   "source": [
    "a1 = np.arange(220, 340, 10)\n",
    "\n",
    "for a1 in a1:\n",
    "    ezreader.clear_params()\n",
    "    ezreader.set_params(a1=a1)\n",
    "    print(mse_score(ezreader, 'TT'))"
   ]
  },
  {
   "cell_type": "code",
   "execution_count": 35,
   "metadata": {},
   "outputs": [
    {
     "data": {
      "text/plain": [
       "[316.8095238095238,\n",
       " 276.7142857142857,\n",
       " 263.84,\n",
       " 241.41463414634146,\n",
       " 223.9512195121951]"
      ]
     },
     "execution_count": 35,
     "metadata": {},
     "output_type": "execute_result"
    }
   ],
   "source": [
    "ezreader.get_prediction('TT')"
   ]
  },
  {
   "cell_type": "code",
   "execution_count": 36,
   "metadata": {},
   "outputs": [
    {
     "data": {
      "text/plain": [
       "22890.071412114026"
      ]
     },
     "execution_count": 36,
     "metadata": {},
     "output_type": "execute_result"
    }
   ],
   "source": [
    "mse_score(ezreader, 'TT')"
   ]
  },
  {
   "cell_type": "code",
   "execution_count": 37,
   "metadata": {},
   "outputs": [
    {
     "data": {
      "text/plain": [
       "[533.5384615384615, 464.5, 376.57142857142856, 359.825, 307.1111111111111]"
      ]
     },
     "execution_count": 37,
     "metadata": {},
     "output_type": "execute_result"
    }
   ],
   "source": [
    "get_observation('TT')"
   ]
  },
  {
   "cell_type": "code",
   "execution_count": 64,
   "metadata": {},
   "outputs": [
    {
     "data": {
      "text/plain": [
       "9000000"
      ]
     },
     "execution_count": 64,
     "metadata": {},
     "output_type": "execute_result"
    }
   ],
   "source": [
    "len(list(params))"
   ]
  },
  {
   "cell_type": "code",
   "execution_count": 58,
   "metadata": {},
   "outputs": [],
   "source": [
    "ezreader.set_params(a1=220)"
   ]
  },
  {
   "cell_type": "code",
   "execution_count": 59,
   "metadata": {},
   "outputs": [
    {
     "data": {
      "text/plain": [
       "1283.4417048892142"
      ]
     },
     "execution_count": 59,
     "metadata": {},
     "output_type": "execute_result"
    }
   ],
   "source": [
    "mse_score(ezreader, 'TT')"
   ]
  },
  {
   "cell_type": "code",
   "execution_count": 60,
   "metadata": {},
   "outputs": [],
   "source": [
    "pred = ezreader.get_prediction('TT')"
   ]
  },
  {
   "cell_type": "code",
   "execution_count": 61,
   "metadata": {},
   "outputs": [],
   "source": [
    "obs = get_observation('TT')"
   ]
  },
  {
   "cell_type": "code",
   "execution_count": 138,
   "metadata": {},
   "outputs": [
    {
     "data": {
      "image/png": "[encoded data removed]",
      "text/plain": [
       "<Figure size 576x576 with 1 Axes>"
      ]
     },
     "metadata": {
      "needs_background": "light"
     },
     "output_type": "display_data"
    }
   ],
   "source": [
    "from matplotlib import pyplot as plt\n",
    "from matplotlib.ticker import MaxNLocator\n",
    "%matplotlib inline\n",
    "\n",
    "fig, ax = plt.subplots(figsize=(8,8))\n",
    "\n",
    "freq_class = [1, 2, 3, 4, 5]\n",
    "\n",
    "ax.plot(freq_class, pred, linestyle=\"--\", marker='o', color=\"g\",  label=\"GD-predicted\")\n",
    "ax.plot(freq_class, obs, linestyle=\"-\", marker='o', color=\"g\", label=\"GD-observed\")\n",
    "\n",
    "ax.set_xlabel(\"frequency classes\")\n",
    "ax.set_ylabel(\"mean fixation-duration(ms)\")\n",
    "\n",
    "\n",
    "ax.xaxis.set_major_locator(MaxNLocator(integer=True))\n",
    "\n",
    "\n",
    "#plt.style.use('fivethirtyeight')\n",
    "# plt.ylim([210,390])\n",
    "# #plt.xlim([0,6])\n",
    "ax.legend()\n",
    "# plt.rcParams.update({'font.size': 12})\n",
    "\n",
    "\n",
    "plt.show()\n",
    "\n",
    "\n"
   ]
  },
  {
   "cell_type": "markdown",
   "metadata": {},
   "source": [
    "### 314"
   ]
  },
  {
   "cell_type": "code",
   "execution_count": 139,
   "metadata": {},
   "outputs": [],
   "source": [
    "def get_observation(metric):\n",
    "    df = pd.read_csv('datasets/Eight_Metrics.csv')\n",
    "    df = df[(df['file'] == 11) & (df['subject'] == 314)]\n",
    "\n",
    "    results = [[], [], [], [], []]\n",
    "\n",
    "    for index, row in df.iterrows():\n",
    "        freq = row['freq']\n",
    "        freq_class = math.floor(math.log(freq, 10)) if freq != 0 else 0\n",
    "        results[freq_class].append(row[metric])\n",
    "\n",
    "    observed = []\n",
    "    for clss in results:\n",
    "        observed.append(np.array(clss).mean())\n",
    "\n",
    "    return observed"
   ]
  },
  {
   "cell_type": "code",
   "execution_count": 140,
   "metadata": {},
   "outputs": [],
   "source": [
    "ezreader314 = EZReader(corpus=\"datasets/1_1_corpus.txt\", \n",
    "                    target=\"datasets/1_1_target.txt\", \n",
    "                    simulation=\"worddvs\", \n",
    "                    num_subject=1000)"
   ]
  },
  {
   "cell_type": "code",
   "execution_count": 151,
   "metadata": {},
   "outputs": [],
   "source": [
    "a1 = np.arange(150, 450, 10)\n",
    "a2 = np.arange(3, 7, 0.5)\n",
    "a3 = np.arange(0, 20, 8)\n",
    "d = np.arange(0.1,0.6,0.2)\n",
    "\n",
    "i = np.arange(5, 50, 10)\n",
    "pf = np.arange(0.01, 0.11, 0.05)\n",
    "\n",
    "params = product(a1, a2, a3, d, i, pf)"
   ]
  },
  {
   "cell_type": "code",
   "execution_count": 152,
   "metadata": {},
   "outputs": [
    {
     "name": "stderr",
     "output_type": "stream",
     "text": [
      "100%|██████████| 21600/21600 [4:13:04<00:00,  1.42it/s]  \n"
     ]
    }
   ],
   "source": [
    "results314 = []\n",
    "\n",
    "for param in tqdm(list(params)):\n",
    "    ezreader314.clear_params()\n",
    "    a1, a2, a3, d, i, pf = param\n",
    "    ezreader314.set_params(a1=a1,\n",
    "                       a2=a2,\n",
    "                       a3=a3,\n",
    "                       d=d,\n",
    "                       i=i,\n",
    "                       pf=pf)\n",
    "    score = mse_score(ezreader314, 'TT')\n",
    "    results314.append({tuple(param):score})"
   ]
  },
  {
   "cell_type": "code",
   "execution_count": 144,
   "metadata": {},
   "outputs": [
    {
     "data": {
      "text/plain": [
       "[316.6190476190476,\n",
       " 280.7857142857143,\n",
       " 260.48,\n",
       " 240.4390243902439,\n",
       " 222.0487804878049]"
      ]
     },
     "execution_count": 144,
     "metadata": {},
     "output_type": "execute_result"
    }
   ],
   "source": [
    "ezreader314.get_prediction('TT')"
   ]
  },
  {
   "cell_type": "code",
   "execution_count": 154,
   "metadata": {},
   "outputs": [
    {
     "data": {
      "text/plain": [
       "[[((220, 6.5, 0, 0.5000000000000001, 45, 0.060000000000000005),\n",
       "   1239.5927453891)],\n",
       " [((220, 6.0, 8, 0.5000000000000001, 45, 0.060000000000000005),\n",
       "   1241.1722048234806)],\n",
       " [((250, 6.5, 8, 0.1, 25, 0.060000000000000005), 1255.661299010737)],\n",
       " [((220, 6.5, 8, 0.5000000000000001, 45, 0.060000000000000005),\n",
       "   1256.6331050914614)],\n",
       " [((230, 6.0, 16, 0.30000000000000004, 45, 0.060000000000000005),\n",
       "   1275.1767171829697)],\n",
       " [((220, 6.5, 8, 0.5000000000000001, 5, 0.060000000000000005),\n",
       "   1277.240334423125)],\n",
       " [((220, 6.0, 16, 0.5000000000000001, 45, 0.060000000000000005),\n",
       "   1287.183732325994)],\n",
       " [((260, 6.5, 8, 0.1, 15, 0.060000000000000005), 1300.215552024904)],\n",
       " [((250, 6.5, 0, 0.1, 35, 0.060000000000000005), 1308.439588739176)],\n",
       " [((240, 6.5, 8, 0.30000000000000004, 5, 0.060000000000000005),\n",
       "   1316.0395936777586)]]"
      ]
     },
     "execution_count": 154,
     "metadata": {},
     "output_type": "execute_result"
    }
   ],
   "source": [
    "sorted([list(result.items()) for result in results314], key=lambda x: x[0][1])[:10]"
   ]
  },
  {
   "cell_type": "code",
   "execution_count": 162,
   "metadata": {},
   "outputs": [
    {
     "data": {
      "text/plain": [
       "array([[1.5, 3. ],\n",
       "       [4.5, 6. ]])"
      ]
     },
     "execution_count": 162,
     "metadata": {},
     "output_type": "execute_result"
    }
   ],
   "source": [
    "np.mean([np.array([[1,2],[3,4]]), np.array([[2,4],[6,8]])], axis=0)"
   ]
  },
  {
   "cell_type": "code",
   "execution_count": 171,
   "metadata": {},
   "outputs": [
    {
     "data": {
      "text/html": [
       "<div>\n",
       "<style scoped>\n",
       "    .dataframe tbody tr th:only-of-type {\n",
       "        vertical-align: middle;\n",
       "    }\n",
       "\n",
       "    .dataframe tbody tr th {\n",
       "        vertical-align: top;\n",
       "    }\n",
       "\n",
       "    .dataframe thead th {\n",
       "        text-align: right;\n",
       "    }\n",
       "</style>\n",
       "<table border=\"1\" class=\"dataframe\">\n",
       "  <thead>\n",
       "    <tr style=\"text-align: right;\">\n",
       "      <th></th>\n",
       "      <th>SFD</th>\n",
       "      <th>FFD</th>\n",
       "      <th>GD</th>\n",
       "      <th>TT</th>\n",
       "      <th>PrF</th>\n",
       "      <th>Pr1</th>\n",
       "      <th>Pr2</th>\n",
       "      <th>PrS</th>\n",
       "      <th>token</th>\n",
       "      <th>s</th>\n",
       "    </tr>\n",
       "  </thead>\n",
       "  <tbody>\n",
       "    <tr>\n",
       "      <th>0</th>\n",
       "      <td>298.50</td>\n",
       "      <td>296.25</td>\n",
       "      <td>314.00</td>\n",
       "      <td>326.50</td>\n",
       "      <td>0.9425</td>\n",
       "      <td>0.8350</td>\n",
       "      <td>0.0800</td>\n",
       "      <td>0.0850</td>\n",
       "      <td>the</td>\n",
       "      <td>1</td>\n",
       "    </tr>\n",
       "    <tr>\n",
       "      <th>1</th>\n",
       "      <td>323.25</td>\n",
       "      <td>300.00</td>\n",
       "      <td>362.00</td>\n",
       "      <td>406.50</td>\n",
       "      <td>0.9950</td>\n",
       "      <td>0.7625</td>\n",
       "      <td>0.2275</td>\n",
       "      <td>0.0100</td>\n",
       "      <td>place</td>\n",
       "      <td>1</td>\n",
       "    </tr>\n",
       "    <tr>\n",
       "      <th>2</th>\n",
       "      <td>296.00</td>\n",
       "      <td>294.50</td>\n",
       "      <td>323.50</td>\n",
       "      <td>353.50</td>\n",
       "      <td>0.9300</td>\n",
       "      <td>0.7450</td>\n",
       "      <td>0.1025</td>\n",
       "      <td>0.1525</td>\n",
       "      <td>for</td>\n",
       "      <td>1</td>\n",
       "    </tr>\n",
       "    <tr>\n",
       "      <th>3</th>\n",
       "      <td>261.25</td>\n",
       "      <td>270.50</td>\n",
       "      <td>291.25</td>\n",
       "      <td>314.00</td>\n",
       "      <td>0.6950</td>\n",
       "      <td>0.5975</td>\n",
       "      <td>0.0525</td>\n",
       "      <td>0.3500</td>\n",
       "      <td>a</td>\n",
       "      <td>1</td>\n",
       "    </tr>\n",
       "    <tr>\n",
       "      <th>4</th>\n",
       "      <td>335.25</td>\n",
       "      <td>303.00</td>\n",
       "      <td>469.25</td>\n",
       "      <td>557.25</td>\n",
       "      <td>0.9925</td>\n",
       "      <td>0.5025</td>\n",
       "      <td>0.4875</td>\n",
       "      <td>0.0100</td>\n",
       "      <td>snark</td>\n",
       "      <td>1</td>\n",
       "    </tr>\n",
       "    <tr>\n",
       "      <th>...</th>\n",
       "      <td>...</td>\n",
       "      <td>...</td>\n",
       "      <td>...</td>\n",
       "      <td>...</td>\n",
       "      <td>...</td>\n",
       "      <td>...</td>\n",
       "      <td>...</td>\n",
       "      <td>...</td>\n",
       "      <td>...</td>\n",
       "      <td>...</td>\n",
       "    </tr>\n",
       "    <tr>\n",
       "      <th>144</th>\n",
       "      <td>312.25</td>\n",
       "      <td>311.75</td>\n",
       "      <td>319.00</td>\n",
       "      <td>332.75</td>\n",
       "      <td>0.8325</td>\n",
       "      <td>0.7375</td>\n",
       "      <td>0.0275</td>\n",
       "      <td>0.2350</td>\n",
       "      <td>he</td>\n",
       "      <td>1</td>\n",
       "    </tr>\n",
       "    <tr>\n",
       "      <th>145</th>\n",
       "      <td>267.25</td>\n",
       "      <td>277.25</td>\n",
       "      <td>331.75</td>\n",
       "      <td>374.25</td>\n",
       "      <td>0.9625</td>\n",
       "      <td>0.7300</td>\n",
       "      <td>0.1900</td>\n",
       "      <td>0.0800</td>\n",
       "      <td>had</td>\n",
       "      <td>1</td>\n",
       "    </tr>\n",
       "    <tr>\n",
       "      <th>146</th>\n",
       "      <td>364.25</td>\n",
       "      <td>321.25</td>\n",
       "      <td>428.50</td>\n",
       "      <td>489.50</td>\n",
       "      <td>0.9925</td>\n",
       "      <td>0.6550</td>\n",
       "      <td>0.3275</td>\n",
       "      <td>0.0175</td>\n",
       "      <td>bought</td>\n",
       "      <td>1</td>\n",
       "    </tr>\n",
       "    <tr>\n",
       "      <th>147</th>\n",
       "      <td>298.50</td>\n",
       "      <td>293.75</td>\n",
       "      <td>315.00</td>\n",
       "      <td>346.75</td>\n",
       "      <td>0.9175</td>\n",
       "      <td>0.7675</td>\n",
       "      <td>0.0800</td>\n",
       "      <td>0.1525</td>\n",
       "      <td>for</td>\n",
       "      <td>1</td>\n",
       "    </tr>\n",
       "    <tr>\n",
       "      <th>148</th>\n",
       "      <td>256.00</td>\n",
       "      <td>262.25</td>\n",
       "      <td>299.25</td>\n",
       "      <td>335.50</td>\n",
       "      <td>0.9275</td>\n",
       "      <td>0.7600</td>\n",
       "      <td>0.1350</td>\n",
       "      <td>0.1050</td>\n",
       "      <td>the</td>\n",
       "      <td>1</td>\n",
       "    </tr>\n",
       "  </tbody>\n",
       "</table>\n",
       "<p>149 rows × 10 columns</p>\n",
       "</div>"
      ],
      "text/plain": [
       "        SFD     FFD      GD      TT     PrF     Pr1     Pr2     PrS   token  s\n",
       "0    298.50  296.25  314.00  326.50  0.9425  0.8350  0.0800  0.0850     the  1\n",
       "1    323.25  300.00  362.00  406.50  0.9950  0.7625  0.2275  0.0100   place  1\n",
       "2    296.00  294.50  323.50  353.50  0.9300  0.7450  0.1025  0.1525     for  1\n",
       "3    261.25  270.50  291.25  314.00  0.6950  0.5975  0.0525  0.3500       a  1\n",
       "4    335.25  303.00  469.25  557.25  0.9925  0.5025  0.4875  0.0100   snark  1\n",
       "..      ...     ...     ...     ...     ...     ...     ...     ...     ... ..\n",
       "144  312.25  311.75  319.00  332.75  0.8325  0.7375  0.0275  0.2350      he  1\n",
       "145  267.25  277.25  331.75  374.25  0.9625  0.7300  0.1900  0.0800     had  1\n",
       "146  364.25  321.25  428.50  489.50  0.9925  0.6550  0.3275  0.0175  bought  1\n",
       "147  298.50  293.75  315.00  346.75  0.9175  0.7675  0.0800  0.1525     for  1\n",
       "148  256.00  262.25  299.25  335.50  0.9275  0.7600  0.1350  0.1050     the  1\n",
       "\n",
       "[149 rows x 10 columns]"
      ]
     },
     "execution_count": 171,
     "metadata": {},
     "output_type": "execute_result"
    }
   ],
   "source": [
    "ezreader.generate_prediction(4)"
   ]
  },
  {
   "cell_type": "code",
   "execution_count": null,
   "metadata": {},
   "outputs": [],
   "source": []
  }
 ],
 "metadata": {
  "kernelspec": {
   "display_name": "Python 3",
   "language": "python",
   "name": "python3"
  },
  "language_info": {
   "codemirror_mode": {
    "name": "ipython",
    "version": 3
   },
   "file_extension": ".py",
   "mimetype": "text/x-python",
   "name": "python",
   "nbconvert_exporter": "python",
   "pygments_lexer": "ipython3",
   "version": "3.8.2"
  }
 },
 "nbformat": 4,
 "nbformat_minor": 4
}
