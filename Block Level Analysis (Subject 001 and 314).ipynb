{
 "cells": [
  {
   "cell_type": "code",
   "execution_count": 66,
   "metadata": {},
   "outputs": [],
   "source": [
    "import numpy as np\n",
    "import pandas as pd\n",
    "from sklearn.ensemble import RandomForestClassifier\n",
    "from sklearn.model_selection import train_test_split\n",
    "from sklearn.preprocessing import StandardScaler\n",
    "from sklearn import metrics\n",
    "from sklearn.model_selection import cross_val_score\n",
    "from sklearn.model_selection import cross_val_predict\n",
    "from sklearn.metrics import precision_score, recall_score, f1_score, confusion_matrix\n",
    "import statistics\n",
    "import matplotlib.pyplot as plt\n",
    "import seaborn as sns"
   ]
  },
  {
   "cell_type": "code",
   "execution_count": 7,
   "metadata": {},
   "outputs": [],
   "source": [
    "dtype = {'file': str,\n",
    "         'block': str,\n",
    "         'tokens': str,\n",
    "         'subject': str,\n",
    "         'duration': int,\n",
    "         'nSFD': float,\n",
    "         'nFFD': float,\n",
    "         'nGD': float,\n",
    "         'nTT': float,\n",
    "         'PrF': float,\n",
    "         'Pr1': float,\n",
    "         'Pr2': float,\n",
    "         'PrS': float,\n",
    "         'length': int,\n",
    "         'wpm': float}\n",
    "\n",
    "df = pd.read_csv(\"eight_metrics_block_level.csv\", dtype=dtype)"
   ]
  },
  {
   "cell_type": "code",
   "execution_count": 19,
   "metadata": {},
   "outputs": [],
   "source": [
    "df = df[(df['subject'] == '001') | (df['subject'] == '314')]"
   ]
  },
  {
   "cell_type": "code",
   "execution_count": 20,
   "metadata": {},
   "outputs": [
    {
     "data": {
      "text/html": [
       "<div>\n",
       "<style scoped>\n",
       "    .dataframe tbody tr th:only-of-type {\n",
       "        vertical-align: middle;\n",
       "    }\n",
       "\n",
       "    .dataframe tbody tr th {\n",
       "        vertical-align: top;\n",
       "    }\n",
       "\n",
       "    .dataframe thead th {\n",
       "        text-align: right;\n",
       "    }\n",
       "</style>\n",
       "<table border=\"1\" class=\"dataframe\">\n",
       "  <thead>\n",
       "    <tr style=\"text-align: right;\">\n",
       "      <th></th>\n",
       "      <th>file</th>\n",
       "      <th>block</th>\n",
       "      <th>tokens</th>\n",
       "      <th>subject</th>\n",
       "      <th>duration</th>\n",
       "      <th>nSFD</th>\n",
       "      <th>nFFD</th>\n",
       "      <th>nGD</th>\n",
       "      <th>nTT</th>\n",
       "      <th>PrF</th>\n",
       "      <th>Pr1</th>\n",
       "      <th>Pr2</th>\n",
       "      <th>PrS</th>\n",
       "      <th>length</th>\n",
       "      <th>wpm</th>\n",
       "    </tr>\n",
       "  </thead>\n",
       "  <tbody>\n",
       "    <tr>\n",
       "      <th>0</th>\n",
       "      <td>11</td>\n",
       "      <td>4</td>\n",
       "      <td>NaN</td>\n",
       "      <td>001</td>\n",
       "      <td>10447</td>\n",
       "      <td>NaN</td>\n",
       "      <td>57.366304</td>\n",
       "      <td>58.540217</td>\n",
       "      <td>115.437319</td>\n",
       "      <td>0.821429</td>\n",
       "      <td>0.250000</td>\n",
       "      <td>0.571429</td>\n",
       "      <td>0.178571</td>\n",
       "      <td>28</td>\n",
       "      <td>160.811716</td>\n",
       "    </tr>\n",
       "    <tr>\n",
       "      <th>1</th>\n",
       "      <td>11</td>\n",
       "      <td>2</td>\n",
       "      <td>NaN</td>\n",
       "      <td>001</td>\n",
       "      <td>11356</td>\n",
       "      <td>NaN</td>\n",
       "      <td>60.747985</td>\n",
       "      <td>61.331319</td>\n",
       "      <td>126.949679</td>\n",
       "      <td>0.812500</td>\n",
       "      <td>0.156250</td>\n",
       "      <td>0.656250</td>\n",
       "      <td>0.187500</td>\n",
       "      <td>32</td>\n",
       "      <td>169.073617</td>\n",
       "    </tr>\n",
       "    <tr>\n",
       "      <th>2</th>\n",
       "      <td>11</td>\n",
       "      <td>3</td>\n",
       "      <td>NaN</td>\n",
       "      <td>001</td>\n",
       "      <td>17383</td>\n",
       "      <td>NaN</td>\n",
       "      <td>80.019118</td>\n",
       "      <td>80.577941</td>\n",
       "      <td>161.241503</td>\n",
       "      <td>0.944444</td>\n",
       "      <td>0.166667</td>\n",
       "      <td>0.777778</td>\n",
       "      <td>0.055556</td>\n",
       "      <td>36</td>\n",
       "      <td>124.259334</td>\n",
       "    </tr>\n",
       "    <tr>\n",
       "      <th>3</th>\n",
       "      <td>11</td>\n",
       "      <td>5</td>\n",
       "      <td>NaN</td>\n",
       "      <td>001</td>\n",
       "      <td>7128</td>\n",
       "      <td>NaN</td>\n",
       "      <td>43.751948</td>\n",
       "      <td>48.321212</td>\n",
       "      <td>76.085660</td>\n",
       "      <td>0.733333</td>\n",
       "      <td>0.300000</td>\n",
       "      <td>0.433333</td>\n",
       "      <td>0.266667</td>\n",
       "      <td>30</td>\n",
       "      <td>252.525253</td>\n",
       "    </tr>\n",
       "    <tr>\n",
       "      <th>4</th>\n",
       "      <td>11</td>\n",
       "      <td>6</td>\n",
       "      <td>NaN</td>\n",
       "      <td>001</td>\n",
       "      <td>6742</td>\n",
       "      <td>NaN</td>\n",
       "      <td>53.124901</td>\n",
       "      <td>53.124901</td>\n",
       "      <td>71.359127</td>\n",
       "      <td>0.685714</td>\n",
       "      <td>0.400000</td>\n",
       "      <td>0.285714</td>\n",
       "      <td>0.314286</td>\n",
       "      <td>35</td>\n",
       "      <td>311.480273</td>\n",
       "    </tr>\n",
       "  </tbody>\n",
       "</table>\n",
       "</div>"
      ],
      "text/plain": [
       "  file block tokens subject  duration  nSFD       nFFD        nGD         nTT  \\\n",
       "0   11     4    NaN     001     10447   NaN  57.366304  58.540217  115.437319   \n",
       "1   11     2    NaN     001     11356   NaN  60.747985  61.331319  126.949679   \n",
       "2   11     3    NaN     001     17383   NaN  80.019118  80.577941  161.241503   \n",
       "3   11     5    NaN     001      7128   NaN  43.751948  48.321212   76.085660   \n",
       "4   11     6    NaN     001      6742   NaN  53.124901  53.124901   71.359127   \n",
       "\n",
       "        PrF       Pr1       Pr2       PrS  length         wpm  \n",
       "0  0.821429  0.250000  0.571429  0.178571      28  160.811716  \n",
       "1  0.812500  0.156250  0.656250  0.187500      32  169.073617  \n",
       "2  0.944444  0.166667  0.777778  0.055556      36  124.259334  \n",
       "3  0.733333  0.300000  0.433333  0.266667      30  252.525253  \n",
       "4  0.685714  0.400000  0.285714  0.314286      35  311.480273  "
      ]
     },
     "execution_count": 20,
     "metadata": {},
     "output_type": "execute_result"
    }
   ],
   "source": [
    "df.head()"
   ]
  },
  {
   "cell_type": "code",
   "execution_count": 38,
   "metadata": {},
   "outputs": [],
   "source": [
    "data = df[['nFFD', 'nGD', 'nTT', 'PrF', 'Pr1', 'Pr2', 'PrS', 'wpm']]\n",
    "target = df['subject']"
   ]
  },
  {
   "cell_type": "markdown",
   "metadata": {},
   "source": [
    "### Drop High Correlated Features"
   ]
  },
  {
   "cell_type": "code",
   "execution_count": 39,
   "metadata": {},
   "outputs": [],
   "source": [
    "# Create correlation matrix\n",
    "corr_matrix = data.corr().abs()\n",
    "\n",
    "# Select upper triangle of correlation matrix\n",
    "upper = corr_matrix.where(np.triu(np.ones(corr_matrix.shape), k=1).astype(np.bool))\n",
    "\n",
    "# Find index of feature columns with correlation greater than 0.95\n",
    "to_drop = [column for column in upper.columns if any(upper[column] > 0.95)]"
   ]
  },
  {
   "cell_type": "code",
   "execution_count": 40,
   "metadata": {},
   "outputs": [],
   "source": [
    "data = data.drop(data[to_drop], axis=1)"
   ]
  },
  {
   "cell_type": "markdown",
   "metadata": {},
   "source": [
    "### Scale Data Using StandardScaler"
   ]
  },
  {
   "cell_type": "code",
   "execution_count": 41,
   "metadata": {},
   "outputs": [],
   "source": [
    "data = pd.DataFrame(data=StandardScaler().fit_transform(data), columns=data.columns, index=data.index)"
   ]
  },
  {
   "cell_type": "code",
   "execution_count": 43,
   "metadata": {},
   "outputs": [
    {
     "data": {
      "text/html": [
       "<div>\n",
       "<style scoped>\n",
       "    .dataframe tbody tr th:only-of-type {\n",
       "        vertical-align: middle;\n",
       "    }\n",
       "\n",
       "    .dataframe tbody tr th {\n",
       "        vertical-align: top;\n",
       "    }\n",
       "\n",
       "    .dataframe thead th {\n",
       "        text-align: right;\n",
       "    }\n",
       "</style>\n",
       "<table border=\"1\" class=\"dataframe\">\n",
       "  <thead>\n",
       "    <tr style=\"text-align: right;\">\n",
       "      <th></th>\n",
       "      <th>nFFD</th>\n",
       "      <th>nTT</th>\n",
       "      <th>PrF</th>\n",
       "      <th>Pr1</th>\n",
       "      <th>Pr2</th>\n",
       "      <th>wpm</th>\n",
       "    </tr>\n",
       "  </thead>\n",
       "  <tbody>\n",
       "    <tr>\n",
       "      <th>0</th>\n",
       "      <td>-0.049957</td>\n",
       "      <td>0.096508</td>\n",
       "      <td>0.351867</td>\n",
       "      <td>-0.277576</td>\n",
       "      <td>0.443190</td>\n",
       "      <td>-0.576095</td>\n",
       "    </tr>\n",
       "    <tr>\n",
       "      <th>1</th>\n",
       "      <td>0.110626</td>\n",
       "      <td>0.386529</td>\n",
       "      <td>0.285515</td>\n",
       "      <td>-0.963930</td>\n",
       "      <td>0.884085</td>\n",
       "      <td>-0.479042</td>\n",
       "    </tr>\n",
       "    <tr>\n",
       "      <th>2</th>\n",
       "      <td>1.025737</td>\n",
       "      <td>1.250412</td>\n",
       "      <td>1.266053</td>\n",
       "      <td>-0.887669</td>\n",
       "      <td>1.515777</td>\n",
       "      <td>-1.005481</td>\n",
       "    </tr>\n",
       "    <tr>\n",
       "      <th>3</th>\n",
       "      <td>-0.696449</td>\n",
       "      <td>-0.894843</td>\n",
       "      <td>-0.302808</td>\n",
       "      <td>0.088479</td>\n",
       "      <td>-0.274618</td>\n",
       "      <td>0.501275</td>\n",
       "    </tr>\n",
       "    <tr>\n",
       "      <th>4</th>\n",
       "      <td>-0.251364</td>\n",
       "      <td>-1.013915</td>\n",
       "      <td>-0.656686</td>\n",
       "      <td>0.820590</td>\n",
       "      <td>-1.041930</td>\n",
       "      <td>1.193828</td>\n",
       "    </tr>\n",
       "  </tbody>\n",
       "</table>\n",
       "</div>"
      ],
      "text/plain": [
       "       nFFD       nTT       PrF       Pr1       Pr2       wpm\n",
       "0 -0.049957  0.096508  0.351867 -0.277576  0.443190 -0.576095\n",
       "1  0.110626  0.386529  0.285515 -0.963930  0.884085 -0.479042\n",
       "2  1.025737  1.250412  1.266053 -0.887669  1.515777 -1.005481\n",
       "3 -0.696449 -0.894843 -0.302808  0.088479 -0.274618  0.501275\n",
       "4 -0.251364 -1.013915 -0.656686  0.820590 -1.041930  1.193828"
      ]
     },
     "execution_count": 43,
     "metadata": {},
     "output_type": "execute_result"
    }
   ],
   "source": [
    "data.head()"
   ]
  },
  {
   "cell_type": "markdown",
   "metadata": {},
   "source": [
    "### Train Test Split"
   ]
  },
  {
   "cell_type": "code",
   "execution_count": 46,
   "metadata": {},
   "outputs": [],
   "source": [
    "train_data, test_data, train_target, test_target = train_test_split(data, target, test_size=0.2)"
   ]
  },
  {
   "cell_type": "code",
   "execution_count": 49,
   "metadata": {},
   "outputs": [
    {
     "name": "stdout",
     "output_type": "stream",
     "text": [
      "train data: (179, 6)\n",
      "train data: (45, 6)\n",
      "train target: (179,)\n",
      "test target: (45,)\n"
     ]
    }
   ],
   "source": [
    "print(\"train data:\", train_data.shape)\n",
    "print(\"train data:\", test_data.shape)\n",
    "print('train target:', train_target.shape)\n",
    "print('test target:', test_target.shape)"
   ]
  },
  {
   "cell_type": "markdown",
   "metadata": {},
   "source": [
    "### Use Random Forest to Train the Data"
   ]
  },
  {
   "cell_type": "code",
   "execution_count": 50,
   "metadata": {},
   "outputs": [
    {
     "data": {
      "text/plain": [
       "RandomForestClassifier()"
      ]
     },
     "execution_count": 50,
     "metadata": {},
     "output_type": "execute_result"
    }
   ],
   "source": [
    "clf = RandomForestClassifier()\n",
    "\n",
    "clf.fit(train_data, train_target)"
   ]
  },
  {
   "cell_type": "markdown",
   "metadata": {},
   "source": [
    "### Cross Validation"
   ]
  },
  {
   "cell_type": "code",
   "execution_count": 53,
   "metadata": {},
   "outputs": [
    {
     "data": {
      "text/plain": [
       "0.6140522875816994"
      ]
     },
     "execution_count": 53,
     "metadata": {},
     "output_type": "execute_result"
    }
   ],
   "source": [
    "# Accuracy\n",
    "statistics.mean(cross_val_score(clf, train_data, train_target, cv=10, scoring=\"accuracy\"))"
   ]
  },
  {
   "cell_type": "code",
   "execution_count": 55,
   "metadata": {},
   "outputs": [],
   "source": [
    "test_predict = cross_val_predict(clf, test_data, test_target, cv=10)"
   ]
  },
  {
   "cell_type": "code",
   "execution_count": 62,
   "metadata": {},
   "outputs": [
    {
     "data": {
      "text/plain": [
       "0.45454545454545453"
      ]
     },
     "execution_count": 62,
     "metadata": {},
     "output_type": "execute_result"
    }
   ],
   "source": [
    "precision_score(test_target, test_predict, pos_label='001')"
   ]
  },
  {
   "cell_type": "code",
   "execution_count": 64,
   "metadata": {},
   "outputs": [
    {
     "data": {
      "text/plain": [
       "0.47619047619047616"
      ]
     },
     "execution_count": 64,
     "metadata": {},
     "output_type": "execute_result"
    }
   ],
   "source": [
    "recall_score(test_target, test_predict, pos_label='001')"
   ]
  },
  {
   "cell_type": "code",
   "execution_count": 65,
   "metadata": {},
   "outputs": [
    {
     "data": {
      "text/plain": [
       "0.46511627906976744"
      ]
     },
     "execution_count": 65,
     "metadata": {},
     "output_type": "execute_result"
    }
   ],
   "source": [
    "f1_score(test_target, test_predict, pos_label='001')"
   ]
  },
  {
   "cell_type": "code",
   "execution_count": 67,
   "metadata": {},
   "outputs": [
    {
     "data": {
      "text/plain": [
       "array([[10, 11],\n",
       "       [12, 12]])"
      ]
     },
     "execution_count": 67,
     "metadata": {},
     "output_type": "execute_result"
    }
   ],
   "source": [
    "confusion_matrix(test_target, test_predict)"
   ]
  },
  {
   "cell_type": "markdown",
   "metadata": {},
   "source": [
    "### Other Classifiers"
   ]
  },
  {
   "cell_type": "code",
   "execution_count": 74,
   "metadata": {},
   "outputs": [],
   "source": [
    "from sklearn.model_selection import train_test_split\n",
    "from sklearn.preprocessing import StandardScaler\n",
    "from sklearn.datasets import make_moons, make_circles, make_classification\n",
    "from sklearn.neural_network import MLPClassifier\n",
    "from sklearn.neighbors import KNeighborsClassifier\n",
    "from sklearn.svm import SVC\n",
    "from sklearn.gaussian_process import GaussianProcessClassifier\n",
    "from sklearn.gaussian_process.kernels import RBF\n",
    "from sklearn.tree import DecisionTreeClassifier\n",
    "from sklearn.ensemble import RandomForestClassifier, AdaBoostClassifier\n",
    "from sklearn.naive_bayes import GaussianNB\n",
    "from sklearn.discriminant_analysis import QuadraticDiscriminantAnalysis\n",
    "\n",
    "from sklearn.metrics import plot_confusion_matrix\n",
    "\n",
    "from tqdm import tqdm"
   ]
  },
  {
   "cell_type": "code",
   "execution_count": 78,
   "metadata": {},
   "outputs": [],
   "source": [
    "names = [\"Nearest Neighbors\", \"Linear SVM\", \"RBF SVM\", \"Gaussian Process\",\n",
    "         \"Decision Tree\", \"Random Forest\", \"Neural Net\", \"AdaBoost\",\n",
    "         \"Naive Bayes\"]\n",
    "\n",
    "classifiers = [\n",
    "    KNeighborsClassifier(5),\n",
    "    SVC(kernel=\"linear\", C=0.025),\n",
    "    SVC(gamma=2, C=1),\n",
    "    GaussianProcessClassifier(1.0 * RBF(1.0)),\n",
    "    DecisionTreeClassifier(max_depth=5),\n",
    "    RandomForestClassifier(max_depth=5),\n",
    "    MLPClassifier(alpha=1, max_iter=1000),\n",
    "    AdaBoostClassifier(),\n",
    "    GaussianNB()]"
   ]
  },
  {
   "cell_type": "code",
   "execution_count": 80,
   "metadata": {},
   "outputs": [
    {
     "name": "stderr",
     "output_type": "stream",
     "text": [
      "1it [00:00,  9.08it/s]/Users/speng/Library/Python/3.8/lib/python/site-packages/sklearn/metrics/_classification.py:1245: UndefinedMetricWarning: Precision is ill-defined and being set to 0.0 due to no predicted samples. Use `zero_division` parameter to control this behavior.\n",
      "  _warn_prf(average, modifier, msg_start, len(result))\n",
      "9it [00:08,  1.08it/s]\n"
     ]
    }
   ],
   "source": [
    "accuracy, precision, recall, f1, confusion = [], [], [], [], []\n",
    "\n",
    "for name, clf in tqdm(zip(names, classifiers)):\n",
    "    train_data, test_data, train_target, test_target = train_test_split(data, target, test_size=0.25)\n",
    "    clf.fit(train_data, train_target)\n",
    "    \n",
    "    accuracy.append(statistics.mean(cross_val_score(clf, train_data, train_target, cv=10, scoring=\"accuracy\")))\n",
    "    \n",
    "    test_predict = cross_val_predict(clf, test_data, test_target, cv=10)\n",
    "    precision.append(precision_score(test_target, test_predict, pos_label='001'))\n",
    "    recall.append(recall_score(test_target, test_predict, pos_label='001'))\n",
    "    f1.append(f1_score(test_target, test_predict, pos_label='001'))\n",
    "    \n",
    "    confusion.append(confusion_matrix(test_target, test_predict))"
   ]
  },
  {
   "cell_type": "code",
   "execution_count": 96,
   "metadata": {},
   "outputs": [
    {
     "data": {
      "image/png": "[encoded data removed]",
      "text/plain": [
       "<Figure size 1296x576 with 1 Axes>"
      ]
     },
     "metadata": {
      "needs_background": "light"
     },
     "output_type": "display_data"
    }
   ],
   "source": [
    "fig, ax = plt.subplots(figsize=(18,8))\n",
    "\n",
    "ax.plot(names, accuracy, label='Accuracy score')\n",
    "ax.plot(names, precision, label='Precision score')\n",
    "ax.plot(names, recall, label='Recall score')\n",
    "ax.plot(names, f1, label='F1 score')\n",
    "\n",
    "ax.scatter(names, accuracy)\n",
    "ax.scatter(names, precision)\n",
    "ax.scatter(names, recall)\n",
    "ax.scatter(names, f1)\n",
    "\n",
    "ax.legend(loc=\"lower right\", frameon=True)\n",
    "\n",
    "ax.set_title(\"Results in Subject Classification with Different Classifiers\");"
   ]
  },
  {
   "cell_type": "code",
   "execution_count": 97,
   "metadata": {},
   "outputs": [
    {
     "data": {
      "image/png": "[encoded data removed]",
      "text/plain": [
       "<Figure size 1296x1296 with 9 Axes>"
      ]
     },
     "metadata": {
      "needs_background": "light"
     },
     "output_type": "display_data"
    }
   ],
   "source": [
    "fig, axes = plt.subplots(ncols=3, nrows=3, figsize=(18,18))\n",
    "\n",
    "axes = axes.flat\n",
    "\n",
    "for ax, matrix in zip(axes, confusion):\n",
    "    ax.matshow(matrix, cmap=plt.cm.Blues)"
   ]
  },
  {
   "cell_type": "code",
   "execution_count": null,
   "metadata": {},
   "outputs": [],
   "source": [
    "confusion[-]"
   ]
  }
 ],
 "metadata": {
  "kernelspec": {
   "display_name": "Python 3",
   "language": "python",
   "name": "python3"
  },
  "language_info": {
   "codemirror_mode": {
    "name": "ipython",
    "version": 3
   },
   "file_extension": ".py",
   "mimetype": "text/x-python",
   "name": "python",
   "nbconvert_exporter": "python",
   "pygments_lexer": "ipython3",
   "version": "3.8.2"
  }
 },
 "nbformat": 4,
 "nbformat_minor": 4
}
