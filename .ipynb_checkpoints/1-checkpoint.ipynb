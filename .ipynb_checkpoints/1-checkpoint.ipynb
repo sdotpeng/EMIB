{
 "cells": [
  {
   "cell_type": "code",
   "execution_count": 15,
   "metadata": {},
   "outputs": [],
   "source": [
    "%store -r params"
   ]
  },
  {
   "cell_type": "code",
   "execution_count": 14,
   "metadata": {},
   "outputs": [
    {
     "name": "stdout",
     "output_type": "stream",
     "text": [
      "The autoreload extension is already loaded. To reload it, use:\n",
      "  %reload_ext autoreload\n"
     ]
    }
   ],
   "source": [
    "import numpy as np\n",
    "import math\n",
    "import pandas as pd\n",
    "from EZReader import EZReader\n",
    "\n",
    "from itertools import product\n",
    "\n",
    "from tqdm import tqdm\n",
    "\n",
    "%load_ext autoreload\n",
    "%autoreload 2\n",
    "\n",
    "ezreader = EZReader(corpus=\"datasets/1_1_corpus.txt\", \n",
    "                    target=\"datasets/1_1_target.txt\", \n",
    "                    simulation=\"worddvs\", \n",
    "                    num_subject=1000)\n",
    "\n",
    "with open('EZReader/datasets/1_1_corpus.txt', 'r') as file:\n",
    "    freq_lookup = {row.strip().split()[-1] : int(row.strip().split()[0]) for row in file.readlines()}\n",
    "\n",
    "def get_observation(metric):\n",
    "    df = pd.read_csv('datasets/Eight_Metrics.csv')\n",
    "    df = df[(df['file'] == 11) & (df['subject'] == 1)]\n",
    "\n",
    "    results = [[], [], [], [], []]\n",
    "\n",
    "    for index, row in df.iterrows():\n",
    "        freq = row['freq']\n",
    "        freq_class = math.floor(math.log(freq, 10)) if freq != 0 else 0\n",
    "        results[freq_class].append(row[metric])\n",
    "\n",
    "    observed = []\n",
    "    for clss in results:\n",
    "        observed.append(np.array(clss).mean())\n",
    "\n",
    "    return observed\n",
    "\n",
    "observation = get_observation(\"GD\")\n",
    "\n",
    "def mse_score(ezreader, metric, observation=None):\n",
    "    if not observation: observation = get_observation(metric)\n",
    "    prediction = ezreader.get_prediction(metric)\n",
    "    return np.square(np.subtract(observation, prediction)).mean()"
   ]
  },
  {
   "cell_type": "code",
   "execution_count": null,
   "metadata": {},
   "outputs": [],
   "source": [
    "results1 = []\n",
    "\n",
    "for param in tqdm(params[6000: 12000]):\n",
    "    ezreader.clear_params()\n",
    "    a1, a2, a3, d, i, pf, m1, m2, s, xi = param\n",
    "    ezreader.set_params(a1=a1,\n",
    "                       a2=a2,\n",
    "                       a3=a3,\n",
    "                       d=d,\n",
    "                       i=i,\n",
    "                       pf=pf,\n",
    "                       m1=m1,\n",
    "                       m2=m2,\n",
    "                       s=s,\n",
    "                       xi=xi)\n",
    "    score = mse_score(ezreader, 'GD', observation=observation)\n",
    "    results1.append({tuple(param):score})"
   ]
  }
 ],
 "metadata": {
  "kernelspec": {
   "display_name": "Python 3",
   "language": "python",
   "name": "python3"
  },
  "language_info": {
   "codemirror_mode": {
    "name": "ipython",
    "version": 3
   },
   "file_extension": ".py",
   "mimetype": "text/x-python",
   "name": "python",
   "nbconvert_exporter": "python",
   "pygments_lexer": "ipython3",
   "version": "3.8.2"
  }
 },
 "nbformat": 4,
 "nbformat_minor": 4
}
