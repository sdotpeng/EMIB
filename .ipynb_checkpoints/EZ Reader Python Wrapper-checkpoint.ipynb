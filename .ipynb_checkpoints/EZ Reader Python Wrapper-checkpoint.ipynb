{
 "cells": [
  {
   "cell_type": "code",
   "execution_count": 1,
   "metadata": {},
   "outputs": [],
   "source": [
    "import numpy as np\n",
    "import pandas as pd"
   ]
  },
  {
   "cell_type": "code",
   "execution_count": 3,
   "metadata": {},
   "outputs": [],
   "source": [
    "df = pd.read_csv('EMIB/eight_metrics_block_level.csv')"
   ]
  },
  {
   "cell_type": "code",
   "execution_count": 4,
   "metadata": {},
   "outputs": [
    {
     "data": {
      "text/html": [
       "<div>\n",
       "<style scoped>\n",
       "    .dataframe tbody tr th:only-of-type {\n",
       "        vertical-align: middle;\n",
       "    }\n",
       "\n",
       "    .dataframe tbody tr th {\n",
       "        vertical-align: top;\n",
       "    }\n",
       "\n",
       "    .dataframe thead th {\n",
       "        text-align: right;\n",
       "    }\n",
       "</style>\n",
       "<table border=\"1\" class=\"dataframe\">\n",
       "  <thead>\n",
       "    <tr style=\"text-align: right;\">\n",
       "      <th></th>\n",
       "      <th>file</th>\n",
       "      <th>block</th>\n",
       "      <th>tokens</th>\n",
       "      <th>subject</th>\n",
       "      <th>duration</th>\n",
       "      <th>nSFD</th>\n",
       "      <th>nFFD</th>\n",
       "      <th>nGD</th>\n",
       "      <th>nTT</th>\n",
       "      <th>PrF</th>\n",
       "      <th>Pr1</th>\n",
       "      <th>Pr2</th>\n",
       "      <th>PrS</th>\n",
       "      <th>length</th>\n",
       "      <th>wpm</th>\n",
       "    </tr>\n",
       "  </thead>\n",
       "  <tbody>\n",
       "    <tr>\n",
       "      <th>0</th>\n",
       "      <td>11</td>\n",
       "      <td>4</td>\n",
       "      <td>NaN</td>\n",
       "      <td>1</td>\n",
       "      <td>10447</td>\n",
       "      <td>NaN</td>\n",
       "      <td>57.366304</td>\n",
       "      <td>58.540217</td>\n",
       "      <td>115.437319</td>\n",
       "      <td>0.821429</td>\n",
       "      <td>0.250000</td>\n",
       "      <td>0.571429</td>\n",
       "      <td>0.178571</td>\n",
       "      <td>28</td>\n",
       "      <td>160.811716</td>\n",
       "    </tr>\n",
       "    <tr>\n",
       "      <th>1</th>\n",
       "      <td>11</td>\n",
       "      <td>2</td>\n",
       "      <td>NaN</td>\n",
       "      <td>1</td>\n",
       "      <td>11356</td>\n",
       "      <td>NaN</td>\n",
       "      <td>60.747985</td>\n",
       "      <td>61.331319</td>\n",
       "      <td>126.949679</td>\n",
       "      <td>0.812500</td>\n",
       "      <td>0.156250</td>\n",
       "      <td>0.656250</td>\n",
       "      <td>0.187500</td>\n",
       "      <td>32</td>\n",
       "      <td>169.073617</td>\n",
       "    </tr>\n",
       "    <tr>\n",
       "      <th>2</th>\n",
       "      <td>11</td>\n",
       "      <td>3</td>\n",
       "      <td>NaN</td>\n",
       "      <td>1</td>\n",
       "      <td>17383</td>\n",
       "      <td>NaN</td>\n",
       "      <td>80.019118</td>\n",
       "      <td>80.577941</td>\n",
       "      <td>161.241503</td>\n",
       "      <td>0.944444</td>\n",
       "      <td>0.166667</td>\n",
       "      <td>0.777778</td>\n",
       "      <td>0.055556</td>\n",
       "      <td>36</td>\n",
       "      <td>124.259334</td>\n",
       "    </tr>\n",
       "    <tr>\n",
       "      <th>3</th>\n",
       "      <td>11</td>\n",
       "      <td>5</td>\n",
       "      <td>NaN</td>\n",
       "      <td>1</td>\n",
       "      <td>7128</td>\n",
       "      <td>NaN</td>\n",
       "      <td>43.751948</td>\n",
       "      <td>48.321212</td>\n",
       "      <td>76.085660</td>\n",
       "      <td>0.733333</td>\n",
       "      <td>0.300000</td>\n",
       "      <td>0.433333</td>\n",
       "      <td>0.266667</td>\n",
       "      <td>30</td>\n",
       "      <td>252.525253</td>\n",
       "    </tr>\n",
       "    <tr>\n",
       "      <th>4</th>\n",
       "      <td>11</td>\n",
       "      <td>6</td>\n",
       "      <td>NaN</td>\n",
       "      <td>1</td>\n",
       "      <td>6742</td>\n",
       "      <td>NaN</td>\n",
       "      <td>53.124901</td>\n",
       "      <td>53.124901</td>\n",
       "      <td>71.359127</td>\n",
       "      <td>0.685714</td>\n",
       "      <td>0.400000</td>\n",
       "      <td>0.285714</td>\n",
       "      <td>0.314286</td>\n",
       "      <td>35</td>\n",
       "      <td>311.480273</td>\n",
       "    </tr>\n",
       "  </tbody>\n",
       "</table>\n",
       "</div>"
      ],
      "text/plain": [
       "   file  block  tokens  subject  duration  nSFD       nFFD        nGD  \\\n",
       "0    11      4     NaN        1     10447   NaN  57.366304  58.540217   \n",
       "1    11      2     NaN        1     11356   NaN  60.747985  61.331319   \n",
       "2    11      3     NaN        1     17383   NaN  80.019118  80.577941   \n",
       "3    11      5     NaN        1      7128   NaN  43.751948  48.321212   \n",
       "4    11      6     NaN        1      6742   NaN  53.124901  53.124901   \n",
       "\n",
       "          nTT       PrF       Pr1       Pr2       PrS  length         wpm  \n",
       "0  115.437319  0.821429  0.250000  0.571429  0.178571      28  160.811716  \n",
       "1  126.949679  0.812500  0.156250  0.656250  0.187500      32  169.073617  \n",
       "2  161.241503  0.944444  0.166667  0.777778  0.055556      36  124.259334  \n",
       "3   76.085660  0.733333  0.300000  0.433333  0.266667      30  252.525253  \n",
       "4   71.359127  0.685714  0.400000  0.285714  0.314286      35  311.480273  "
      ]
     },
     "execution_count": 4,
     "metadata": {},
     "output_type": "execute_result"
    }
   ],
   "source": [
    "df.head()"
   ]
  },
  {
   "cell_type": "code",
   "execution_count": 16,
   "metadata": {},
   "outputs": [],
   "source": [
    "df = pd.read_csv('EMIB/datasets/tokens_freq.csv')"
   ]
  },
  {
   "cell_type": "code",
   "execution_count": 18,
   "metadata": {},
   "outputs": [],
   "source": [
    "df = df.groupby('Word').max()"
   ]
  },
  {
   "cell_type": "code",
   "execution_count": 22,
   "metadata": {},
   "outputs": [
    {
     "data": {
      "text/html": [
       "<div>\n",
       "<style scoped>\n",
       "    .dataframe tbody tr th:only-of-type {\n",
       "        vertical-align: middle;\n",
       "    }\n",
       "\n",
       "    .dataframe tbody tr th {\n",
       "        vertical-align: top;\n",
       "    }\n",
       "\n",
       "    .dataframe thead th {\n",
       "        text-align: right;\n",
       "    }\n",
       "</style>\n",
       "<table border=\"1\" class=\"dataframe\">\n",
       "  <thead>\n",
       "    <tr style=\"text-align: right;\">\n",
       "      <th></th>\n",
       "      <th>Lemma Head</th>\n",
       "      <th>Lemma CobMln</th>\n",
       "      <th>CobMln</th>\n",
       "    </tr>\n",
       "    <tr>\n",
       "      <th>Word</th>\n",
       "      <th></th>\n",
       "      <th></th>\n",
       "      <th></th>\n",
       "    </tr>\n",
       "  </thead>\n",
       "  <tbody>\n",
       "    <tr>\n",
       "      <th>a</th>\n",
       "      <td>a</td>\n",
       "      <td>23544</td>\n",
       "      <td>23543</td>\n",
       "    </tr>\n",
       "    <tr>\n",
       "      <th>able</th>\n",
       "      <td>able</td>\n",
       "      <td>328</td>\n",
       "      <td>327</td>\n",
       "    </tr>\n",
       "    <tr>\n",
       "      <th>aboard</th>\n",
       "      <td>aboard</td>\n",
       "      <td>9</td>\n",
       "      <td>9</td>\n",
       "    </tr>\n",
       "    <tr>\n",
       "      <th>about</th>\n",
       "      <td>about</td>\n",
       "      <td>2142</td>\n",
       "      <td>2142</td>\n",
       "    </tr>\n",
       "    <tr>\n",
       "      <th>absolute</th>\n",
       "      <td>absolute</td>\n",
       "      <td>42</td>\n",
       "      <td>42</td>\n",
       "    </tr>\n",
       "    <tr>\n",
       "      <th>...</th>\n",
       "      <td>...</td>\n",
       "      <td>...</td>\n",
       "      <td>...</td>\n",
       "    </tr>\n",
       "    <tr>\n",
       "      <th>you'll</th>\n",
       "      <td>you'll</td>\n",
       "      <td>121</td>\n",
       "      <td>121</td>\n",
       "    </tr>\n",
       "    <tr>\n",
       "      <th>you've</th>\n",
       "      <td>you've</td>\n",
       "      <td>199</td>\n",
       "      <td>199</td>\n",
       "    </tr>\n",
       "    <tr>\n",
       "      <th>your</th>\n",
       "      <td>your</td>\n",
       "      <td>1612</td>\n",
       "      <td>1612</td>\n",
       "    </tr>\n",
       "    <tr>\n",
       "      <th>yourselves</th>\n",
       "      <td>yourselves</td>\n",
       "      <td>8</td>\n",
       "      <td>8</td>\n",
       "    </tr>\n",
       "    <tr>\n",
       "      <th>zones</th>\n",
       "      <td>zone</td>\n",
       "      <td>16</td>\n",
       "      <td>5</td>\n",
       "    </tr>\n",
       "  </tbody>\n",
       "</table>\n",
       "<p>984 rows × 3 columns</p>\n",
       "</div>"
      ],
      "text/plain": [
       "             Lemma Head   Lemma CobMln   CobMln\n",
       "Word                                           \n",
       "a                     a          23544    23543\n",
       "able               able            328      327\n",
       "aboard           aboard              9        9\n",
       "about             about           2142     2142\n",
       "absolute       absolute             42       42\n",
       "...                 ...            ...      ...\n",
       "you'll           you'll            121      121\n",
       "you've           you've            199      199\n",
       "your               your           1612     1612\n",
       "yourselves   yourselves              8        8\n",
       "zones              zone             16        5\n",
       "\n",
       "[984 rows x 3 columns]"
      ]
     },
     "execution_count": 22,
     "metadata": {},
     "output_type": "execute_result"
    }
   ],
   "source": [
    "df"
   ]
  },
  {
   "cell_type": "code",
   "execution_count": 33,
   "metadata": {},
   "outputs": [],
   "source": [
    "df = pd.read_csv('EMIB/datasets/freq_result.csv')"
   ]
  },
  {
   "cell_type": "code",
   "execution_count": 34,
   "metadata": {},
   "outputs": [
    {
     "data": {
      "text/html": [
       "<div>\n",
       "<style scoped>\n",
       "    .dataframe tbody tr th:only-of-type {\n",
       "        vertical-align: middle;\n",
       "    }\n",
       "\n",
       "    .dataframe tbody tr th {\n",
       "        vertical-align: top;\n",
       "    }\n",
       "\n",
       "    .dataframe thead th {\n",
       "        text-align: right;\n",
       "    }\n",
       "</style>\n",
       "<table border=\"1\" class=\"dataframe\">\n",
       "  <thead>\n",
       "    <tr style=\"text-align: right;\">\n",
       "      <th></th>\n",
       "      <th>index</th>\n",
       "      <th>round</th>\n",
       "      <th>session</th>\n",
       "      <th>participant</th>\n",
       "      <th>line_part</th>\n",
       "      <th>stimuli_image</th>\n",
       "      <th>stimuli_text</th>\n",
       "      <th>timestamp</th>\n",
       "      <th>duration</th>\n",
       "      <th>x_cord</th>\n",
       "      <th>y_cord</th>\n",
       "      <th>aoi_x</th>\n",
       "      <th>aoi_y</th>\n",
       "      <th>aoi_width</th>\n",
       "      <th>aoi_height</th>\n",
       "      <th>length</th>\n",
       "      <th>CobMln</th>\n",
       "    </tr>\n",
       "    <tr>\n",
       "      <th>token</th>\n",
       "      <th></th>\n",
       "      <th></th>\n",
       "      <th></th>\n",
       "      <th></th>\n",
       "      <th></th>\n",
       "      <th></th>\n",
       "      <th></th>\n",
       "      <th></th>\n",
       "      <th></th>\n",
       "      <th></th>\n",
       "      <th></th>\n",
       "      <th></th>\n",
       "      <th></th>\n",
       "      <th></th>\n",
       "      <th></th>\n",
       "      <th></th>\n",
       "      <th></th>\n",
       "    </tr>\n",
       "  </thead>\n",
       "  <tbody>\n",
       "    <tr>\n",
       "      <th>brought</th>\n",
       "      <td>11001_0</td>\n",
       "      <td>1</td>\n",
       "      <td>1</td>\n",
       "      <td>1</td>\n",
       "      <td>line 12 part 3</td>\n",
       "      <td>TEX_R1S1_bg.png</td>\n",
       "      <td>TEX_R1S1_text.txt</td>\n",
       "      <td>263.0</td>\n",
       "      <td>120</td>\n",
       "      <td>722.360000</td>\n",
       "      <td>488.112500</td>\n",
       "      <td>700.5</td>\n",
       "      <td>467.0</td>\n",
       "      <td>102.0</td>\n",
       "      <td>32.0</td>\n",
       "      <td>7</td>\n",
       "      <td>50</td>\n",
       "    </tr>\n",
       "    <tr>\n",
       "      <th>broker</th>\n",
       "      <td>11001_1</td>\n",
       "      <td>1</td>\n",
       "      <td>1</td>\n",
       "      <td>1</td>\n",
       "      <td>line 13 part 3</td>\n",
       "      <td>TEX_R1S1_bg.png</td>\n",
       "      <td>TEX_R1S1_text.txt</td>\n",
       "      <td>263.0</td>\n",
       "      <td>120</td>\n",
       "      <td>722.360000</td>\n",
       "      <td>488.112500</td>\n",
       "      <td>708.5</td>\n",
       "      <td>500.0</td>\n",
       "      <td>96.0</td>\n",
       "      <td>32.0</td>\n",
       "      <td>6</td>\n",
       "      <td>3</td>\n",
       "    </tr>\n",
       "    <tr>\n",
       "      <th>brought</th>\n",
       "      <td>11001_2</td>\n",
       "      <td>1</td>\n",
       "      <td>1</td>\n",
       "      <td>1</td>\n",
       "      <td>line 12 part 3</td>\n",
       "      <td>TEX_R1S1_bg.png</td>\n",
       "      <td>TEX_R1S1_text.txt</td>\n",
       "      <td>519.0</td>\n",
       "      <td>255</td>\n",
       "      <td>736.400394</td>\n",
       "      <td>491.933725</td>\n",
       "      <td>700.5</td>\n",
       "      <td>467.0</td>\n",
       "      <td>102.0</td>\n",
       "      <td>32.0</td>\n",
       "      <td>7</td>\n",
       "      <td>50</td>\n",
       "    </tr>\n",
       "    <tr>\n",
       "      <th>broker</th>\n",
       "      <td>11001_3</td>\n",
       "      <td>1</td>\n",
       "      <td>1</td>\n",
       "      <td>1</td>\n",
       "      <td>line 13 part 3</td>\n",
       "      <td>TEX_R1S1_bg.png</td>\n",
       "      <td>TEX_R1S1_text.txt</td>\n",
       "      <td>519.0</td>\n",
       "      <td>255</td>\n",
       "      <td>736.400394</td>\n",
       "      <td>491.933725</td>\n",
       "      <td>708.5</td>\n",
       "      <td>500.0</td>\n",
       "      <td>96.0</td>\n",
       "      <td>32.0</td>\n",
       "      <td>6</td>\n",
       "      <td>3</td>\n",
       "    </tr>\n",
       "    <tr>\n",
       "      <th>to</th>\n",
       "      <td>11001_4</td>\n",
       "      <td>1</td>\n",
       "      <td>1</td>\n",
       "      <td>1</td>\n",
       "      <td>line 12 part 4</td>\n",
       "      <td>TEX_R1S1_bg.png</td>\n",
       "      <td>TEX_R1S1_text.txt</td>\n",
       "      <td>698.0</td>\n",
       "      <td>161</td>\n",
       "      <td>809.180746</td>\n",
       "      <td>494.226708</td>\n",
       "      <td>803.5</td>\n",
       "      <td>467.0</td>\n",
       "      <td>28.0</td>\n",
       "      <td>32.0</td>\n",
       "      <td>2</td>\n",
       "      <td>19942</td>\n",
       "    </tr>\n",
       "  </tbody>\n",
       "</table>\n",
       "</div>"
      ],
      "text/plain": [
       "           index  round  session  participant       line_part  \\\n",
       "token                                                           \n",
       "brought  11001_0      1        1            1  line 12 part 3   \n",
       "broker   11001_1      1        1            1  line 13 part 3   \n",
       "brought  11001_2      1        1            1  line 12 part 3   \n",
       "broker   11001_3      1        1            1  line 13 part 3   \n",
       "to       11001_4      1        1            1  line 12 part 4   \n",
       "\n",
       "           stimuli_image       stimuli_text  timestamp  duration      x_cord  \\\n",
       "token                                                                          \n",
       "brought  TEX_R1S1_bg.png  TEX_R1S1_text.txt      263.0       120  722.360000   \n",
       "broker   TEX_R1S1_bg.png  TEX_R1S1_text.txt      263.0       120  722.360000   \n",
       "brought  TEX_R1S1_bg.png  TEX_R1S1_text.txt      519.0       255  736.400394   \n",
       "broker   TEX_R1S1_bg.png  TEX_R1S1_text.txt      519.0       255  736.400394   \n",
       "to       TEX_R1S1_bg.png  TEX_R1S1_text.txt      698.0       161  809.180746   \n",
       "\n",
       "             y_cord  aoi_x  aoi_y  aoi_width  aoi_height  length  CobMln  \n",
       "token                                                                     \n",
       "brought  488.112500  700.5  467.0      102.0        32.0       7      50  \n",
       "broker   488.112500  708.5  500.0       96.0        32.0       6       3  \n",
       "brought  491.933725  700.5  467.0      102.0        32.0       7      50  \n",
       "broker   491.933725  708.5  500.0       96.0        32.0       6       3  \n",
       "to       494.226708  803.5  467.0       28.0        32.0       2   19942  "
      ]
     },
     "execution_count": 34,
     "metadata": {},
     "output_type": "execute_result"
    }
   ],
   "source": [
    "df = df.set_index('token')\n",
    "df.head()"
   ]
  },
  {
   "cell_type": "code",
   "execution_count": 44,
   "metadata": {},
   "outputs": [],
   "source": [
    "frequency = df[\"CobMln\"].groupby('token').mean().to_dict()"
   ]
  },
  {
   "cell_type": "markdown",
   "metadata": {},
   "source": [
    "### Generate Corpus and Target file for Round 1 Session 1"
   ]
  },
  {
   "cell_type": "code",
   "execution_count": 54,
   "metadata": {},
   "outputs": [],
   "source": [
    "import string\n",
    "output = ''\n",
    "for line in open('EMIB/datasets/GazeBase_TEX/StimuliExamples/TEXTexts/TEX_R1S1_text.txt', 'r').readlines():\n",
    "    if line == '\\n':\n",
    "        continue\n",
    "    wordlist = line.strip().lower().split()\n",
    "    for index in range(len(wordlist)):\n",
    "        token = wordlist[index].strip(string.punctuation)\n",
    "        freq = int(frequency.get(token, 1))\n",
    "        leng = len(token)\n",
    "        prob = \"0.00\"\n",
    "        if index == len(wordlist)-1:\n",
    "            token = token + \".@\"\n",
    "        fr = \"{freq: < 6}{leng: < 4}{prob: <5}{token}\".format(freq=freq, leng=leng, prob=prob, token=token)\n",
    "        output += fr + '\\n'\n",
    "        \n",
    "file = open('1_1_corpus.txt', 'w')\n",
    "file.write(output)\n",
    "file.close()"
   ]
  },
  {
   "cell_type": "code",
   "execution_count": 55,
   "metadata": {},
   "outputs": [
    {
     "data": {
      "text/plain": [
       "200"
      ]
     },
     "execution_count": 55,
     "metadata": {},
     "output_type": "execute_result"
    }
   ],
   "source": [
    "len(output.split('\\n'))"
   ]
  },
  {
   "cell_type": "code",
   "execution_count": 56,
   "metadata": {},
   "outputs": [],
   "source": [
    "with open('1_1_target.txt', 'w') as file:\n",
    "    file.write('0\\n' * 200)"
   ]
  },
  {
   "cell_type": "markdown",
   "metadata": {},
   "source": [
    "### Run Shell Command Using Subprocess"
   ]
  },
  {
   "cell_type": "code",
   "execution_count": 57,
   "metadata": {},
   "outputs": [],
   "source": [
    "import subprocess"
   ]
  },
  {
   "cell_type": "code",
   "execution_count": 58,
   "metadata": {},
   "outputs": [],
   "source": [
    "cmd = [\"ls\"]\n",
    "output = subprocess.Popen( cmd, stdout=subprocess.PIPE ).communicate()[0]"
   ]
  },
  {
   "cell_type": "code",
   "execution_count": 64,
   "metadata": {},
   "outputs": [
    {
     "data": {
      "text/plain": [
       "(b'', None)"
      ]
     },
     "execution_count": 64,
     "metadata": {},
     "output_type": "execute_result"
    }
   ],
   "source": [
    "cmd = [\"cd\", \"E-Z Reader/src\"]\n",
    "subprocess.Popen(cmd, stdout=subprocess.PIPE).communicate()"
   ]
  },
  {
   "cell_type": "code",
   "execution_count": 70,
   "metadata": {},
   "outputs": [
    {
     "data": {
      "text/plain": [
       "(b'', None)"
      ]
     },
     "execution_count": 70,
     "metadata": {},
     "output_type": "execute_result"
    }
   ],
   "source": [
    "cmd = \"java CLI -so tracefile -o Simulation.txt -ic 1_1_corpus.txt -it 1_1_target.txt\".split()\n",
    "subprocess.Popen(cmd, stdout=subprocess.PIPE).communicate()"
   ]
  },
  {
   "cell_type": "code",
   "execution_count": 79,
   "metadata": {},
   "outputs": [
    {
     "name": "stdout",
     "output_type": "stream",
     "text": [
      "b'Start corpus words\\n'\n",
      "b'Start target words\\n'\n",
      "b'Start display\\n'\n"
     ]
    }
   ],
   "source": [
    "p = subprocess.Popen('cd EZReader/src; java CLI -so tracefile -o Simulation_a.txt -ic 1_1_corpus.txt -it 1_1_target.txt', shell=True, stdout=subprocess.PIPE, stderr=subprocess.STDOUT)\n",
    "for line in p.stdout.readlines():\n",
    "    print(line)"
   ]
  },
  {
   "cell_type": "code",
   "execution_count": 87,
   "metadata": {},
   "outputs": [],
   "source": [
    "so = \"worddvs\"\n",
    "o = \"Simulation.txt\"\n",
    "ic = \"1_1_corpus.txt\"\n",
    "it = \"1_1_target.txt\"\n",
    "a1 = 125\n",
    "subprocess.Popen(f'cd EZReader/src; java CLI -so {so} -o {o} -ic {ic} -it {it} -a1 {a1}', \n",
    "                     shell=True, stdout=subprocess.PIPE, stderr=subprocess.STDOUT)"
   ]
  },
  {
   "cell_type": "markdown",
   "metadata": {},
   "source": [
    "### Merge to Block Level"
   ]
  },
  {
   "cell_type": "code",
   "execution_count": 99,
   "metadata": {},
   "outputs": [],
   "source": [
    "\n",
    "lst = []\n",
    "with open('EZReader/src/Simulation.txt', 'r') as file:\n",
    "    for line in file.readlines():\n",
    "        if line == ' First-fixation landing-site distributions:\\n':\n",
    "            break\n",
    "        lst.append(line)"
   ]
  },
  {
   "cell_type": "code",
   "execution_count": 102,
   "metadata": {},
   "outputs": [],
   "source": [
    "lst = [line.strip() for line in lst if line.startswith(' SFD')]"
   ]
  },
  {
   "cell_type": "code",
   "execution_count": 103,
   "metadata": {},
   "outputs": [
    {
     "data": {
      "text/plain": [
       "['SFD 203  FFD 203  GD 211  TT 216  PrF 0.88 Pr1 0.82 Pr2 0.04 PrS 0.14 the',\n",
       " 'SFD 241  FFD 228  GD 267  TT 281  PrF 0.98 Pr1 0.79 Pr2 0.18 PrS 0.03 place',\n",
       " 'SFD 208  FFD 207  GD 210  TT 233  PrF 0.90 Pr1 0.84 Pr2 0.02 PrS 0.14 for',\n",
       " 'SFD 228  FFD 234  GD 242  TT 240  PrF 0.44 Pr1 0.39 Pr2 0.02 PrS 0.59 a',\n",
       " 'SFD 208  FFD 208  GD 331  TT 363  PrF 1.00 Pr1 0.46 Pr2 0.53 PrS 0.01 snark',\n",
       " 'SFD 210  FFD 211  GD 217  TT 233  PrF 0.82 Pr1 0.74 Pr2 0.03 PrS 0.23 the',\n",
       " 'SFD 257  FFD 239  GD 309  TT 320  PrF 0.97 Pr1 0.69 Pr2 0.28 PrS 0.03 bellman',\n",
       " 'SFD 194  FFD 194  GD 194  TT 196  PrF 0.69 Pr1 0.67 Pr2 0.00 PrS 0.33 he',\n",
       " 'SFD 236  FFD 212  GD 313  TT 334  PrF 1.00 Pr1 0.59 Pr2 0.38 PrS 0.03 landed',\n",
       " 'SFD 227  FFD 227  GD 227  TT 232  PrF 0.87 Pr1 0.86 Pr2 0.00 PrS 0.14 his',\n",
       " 'SFD 229  FFD 223  GD 263  TT 268  PrF 0.97 Pr1 0.80 Pr2 0.16 PrS 0.04 crew',\n",
       " 'SFD 228  FFD 226  GD 241  TT 243  PrF 0.92 Pr1 0.83 Pr2 0.08 PrS 0.09 with',\n",
       " 'SFD 255  FFD 248  GD 264  TT 280  PrF 0.99 Pr1 0.83 Pr2 0.07 PrS 0.10 each',\n",
       " 'SFD 205  FFD 206  GD 215  TT 257  PrF 0.86 Pr1 0.80 Pr2 0.03 PrS 0.17 man',\n",
       " 'SFD 212  FFD 213  GD 226  TT 236  PrF 0.69 Pr1 0.57 Pr2 0.04 PrS 0.39 on',\n",
       " 'SFD 200  FFD 205  GD 226  TT 254  PrF 0.87 Pr1 0.76 Pr2 0.10 PrS 0.14 the',\n",
       " 'SFD 215  FFD 210  GD 244  TT 261  PrF 0.86 Pr1 0.67 Pr2 0.15 PrS 0.18 top',\n",
       " 'SFD 205  FFD 204  GD 217  TT 234  PrF 0.74 Pr1 0.66 Pr2 0.05 PrS 0.29 of',\n",
       " 'SFD 187  FFD 195  GD 229  TT 230  PrF 0.91 Pr1 0.70 Pr2 0.18 PrS 0.12 the',\n",
       " 'SFD 217  FFD 217  GD 217  TT 215  PrF 0.33 Pr1 0.32 Pr2 0.00 PrS 0.68 a',\n",
       " 'SFD 240  FFD 221  GD Infinity  TT Infinity  PrF 1.00 Pr1 0.37 Pr2 0.63 PrS 0.00 finger',\n",
       " 'SFD Infinity  FFD Infinity  GD Infinity  TT Infinity  PrF 0.98 Pr1 0.66 Pr2 0.27 PrS 0.07 entwined',\n",
       " 'SFD Infinity  FFD Infinity  GD Infinity  TT Infinity  PrF 0.82 Pr1 0.66 Pr2 0.01 PrS 0.33 in',\n",
       " 'SFD Infinity  FFD Infinity  GD Infinity  TT Infinity  PrF 0.73 Pr1 0.73 Pr2 0.00 PrS 0.27 his',\n",
       " 'SFD 213  FFD 213  GD 213  TT 222  PrF 0.87 Pr1 0.85 Pr2 0.00 PrS 0.15 the',\n",
       " 'SFD 240  FFD 232  GD 278  TT 306  PrF 1.00 Pr1 0.80 Pr2 0.19 PrS 0.01 place',\n",
       " 'SFD 222  FFD 222  GD 227  TT 234  PrF 0.82 Pr1 0.76 Pr2 0.02 PrS 0.22 for',\n",
       " 'SFD 221  FFD 223  GD 227  TT 236  PrF 0.56 Pr1 0.50 Pr2 0.02 PrS 0.48 a',\n",
       " 'SFD 216  FFD 214  GD 322  TT 356  PrF 0.99 Pr1 0.52 Pr2 0.43 PrS 0.05 snark',\n",
       " 'SFD 223  FFD 227  GD 233  TT 249  PrF 0.43 Pr1 0.38 Pr2 0.01 PrS 0.61 i',\n",
       " 'SFD 200  FFD 221  GD 298  TT 329  PrF 0.98 Pr1 0.58 Pr2 0.40 PrS 0.02 have',\n",
       " 'SFD 239  FFD 237  GD 251  TT 254  PrF 0.92 Pr1 0.81 Pr2 0.08 PrS 0.11 said',\n",
       " 'SFD 203  FFD 204  GD 214  TT 220  PrF 0.67 Pr1 0.61 Pr2 0.03 PrS 0.36 it',\n",
       " 'SFD 240  FFD 233  GD 244  TT 247  PrF 0.98 Pr1 0.90 Pr2 0.07 PrS 0.03 alone',\n",
       " 'SFD 256  FFD 252  GD 276  TT 278  PrF 0.98 Pr1 0.90 Pr2 0.07 PrS 0.03 should',\n",
       " 'SFD 306  FFD 261  GD 338  TT 344  PrF 0.99 Pr1 0.67 Pr2 0.31 PrS 0.02 encourage',\n",
       " 'SFD 251  FFD 245  GD 251  TT 250  PrF 0.83 Pr1 0.74 Pr2 0.05 PrS 0.21 the',\n",
       " 'SFD 214  FFD 214  GD 220  TT 224  PrF 0.88 Pr1 0.83 Pr2 0.04 PrS 0.13 the',\n",
       " 'SFD 240  FFD 232  GD 267  TT 280  PrF 0.96 Pr1 0.80 Pr2 0.16 PrS 0.04 place',\n",
       " 'SFD 217  FFD 215  GD 230  TT 251  PrF 0.85 Pr1 0.73 Pr2 0.07 PrS 0.20 for',\n",
       " 'SFD 229  FFD 233  GD 240  TT 241  PrF 0.50 Pr1 0.45 Pr2 0.02 PrS 0.53 a',\n",
       " 'SFD 198  FFD 202  GD 325  TT 381  PrF 0.99 Pr1 0.47 Pr2 0.52 PrS 0.01 snark',\n",
       " 'SFD 226  FFD 226  GD 226  TT 235  PrF 0.39 Pr1 0.37 Pr2 0.00 PrS 0.63 i',\n",
       " 'SFD 191  FFD 204  GD 325  TT 356  PrF 0.97 Pr1 0.43 Pr2 0.54 PrS 0.03 have',\n",
       " 'SFD 223  FFD 217  GD 251  TT 268  PrF 0.85 Pr1 0.70 Pr2 0.13 PrS 0.17 said',\n",
       " 'SFD 224  FFD 224  GD 230  TT 232  PrF 0.59 Pr1 0.55 Pr2 0.02 PrS 0.43 it',\n",
       " 'SFD 236  FFD 236  GD 236  TT 234  PrF 0.54 Pr1 0.49 Pr2 0.00 PrS 0.51 i',\n",
       " 'SFD 209  FFD 226  GD 315  TT 340  PrF 0.94 Pr1 0.51 Pr2 0.43 PrS 0.06 tell',\n",
       " 'SFD 215  FFD 217  GD 242  TT 250  PrF 0.77 Pr1 0.59 Pr2 0.13 PrS 0.28 you',\n",
       " 'SFD 223  FFD 214  GD 286  TT 344  PrF 0.97 Pr1 0.67 Pr2 0.30 PrS 0.03 three',\n",
       " 'SFD 237  FFD 231  GD 259  TT 267  PrF 0.91 Pr1 0.77 Pr2 0.10 PrS 0.13 times',\n",
       " 'SFD 228  FFD 230  GD 231  TT 233  PrF 0.74 Pr1 0.69 Pr2 0.01 PrS 0.30 is',\n",
       " 'SFD 226  FFD 225  GD 226  TT 237  PrF 0.97 Pr1 0.94 Pr2 0.01 PrS 0.05 crew',\n",
       " 'SFD 216  FFD 214  GD 223  TT 225  PrF 0.87 Pr1 0.79 Pr2 0.05 PrS 0.16 was',\n",
       " 'SFD 267  FFD 239  GD 328  TT 363  PrF 0.99 Pr1 0.67 Pr2 0.32 PrS 0.01 complete',\n",
       " 'SFD 237  FFD 237  GD 237  TT 232  PrF 0.63 Pr1 0.59 Pr2 0.00 PrS 0.41 it',\n",
       " 'SFD 262  FFD 243  GD 367  TT 405  PrF 1.00 Pr1 0.55 Pr2 0.44 PrS 0.01 included',\n",
       " 'SFD 264  FFD 264  GD 264  TT 261  PrF 0.52 Pr1 0.50 Pr2 0.00 PrS 0.50 a',\n",
       " 'SFD 236  FFD 232  GD 240  TT 259  PrF 0.99 Pr1 0.94 Pr2 0.05 PrS 0.01 maker',\n",
       " 'SFD 223  FFD 223  GD 223  TT 229  PrF 0.70 Pr1 0.67 Pr2 0.00 PrS 0.33 of',\n",
       " 'SFD 241  FFD 224  GD 316  TT 328  PrF 1.00 Pr1 0.61 Pr2 0.38 PrS 0.01 bonnets',\n",
       " 'SFD 237  FFD 236  GD 243  TT 245  PrF 0.78 Pr1 0.73 Pr2 0.03 PrS 0.24 and',\n",
       " 'SFD 265  FFD 250  GD 291  TT 291  PrF 1.00 Pr1 0.88 Pr2 0.12 PrS 0.00 barrister',\n",
       " 'SFD 301  FFD 271  GD 358  TT 364  PrF 0.98 Pr1 0.74 Pr2 0.24 PrS 0.02 brought',\n",
       " 'SFD 245  FFD 245  GD 248  TT 242  PrF 0.60 Pr1 0.56 Pr2 0.01 PrS 0.43 to',\n",
       " 'SFD 255  FFD 248  GD 324  TT 346  PrF 0.98 Pr1 0.67 Pr2 0.31 PrS 0.02 arrange',\n",
       " 'SFD 243  FFD 239  GD 251  TT 252  PrF 0.96 Pr1 0.88 Pr2 0.06 PrS 0.06 their',\n",
       " 'SFD 215  FFD 215  GD 215  TT 216  PrF 0.48 Pr1 0.47 Pr2 0.00 PrS 0.53 a',\n",
       " 'SFD 214  FFD 215  GD 336  TT 360  PrF 1.00 Pr1 0.50 Pr2 0.50 PrS 0.00 broker',\n",
       " 'SFD 233  FFD 235  GD 237  TT 237  PrF 0.60 Pr1 0.56 Pr2 0.01 PrS 0.43 to',\n",
       " 'SFD 217  FFD 215  GD 292  TT 318  PrF 1.00 Pr1 0.62 Pr2 0.38 PrS 0.00 value',\n",
       " 'SFD 243  FFD 233  GD 255  TT 251  PrF 0.98 Pr1 0.83 Pr2 0.11 PrS 0.06 their',\n",
       " 'SFD Infinity  FFD Infinity  GD Infinity  TT Infinity  PrF 1.00 Pr1 0.63 Pr2 0.37 PrS 0.00 billiard-marker',\n",
       " 'SFD Infinity  FFD Infinity  GD Infinity  TT Infinity  PrF 0.99 Pr1 0.11 Pr2 0.06 PrS 0.83 whose',\n",
       " 'SFD Infinity  FFD Infinity  GD Infinity  TT Infinity  PrF 0.95 Pr1 0.74 Pr2 0.09 PrS 0.17 skill',\n",
       " 'SFD 211  FFD 211  GD 228  TT 270  PrF 0.85 Pr1 0.75 Pr2 0.07 PrS 0.18 was',\n",
       " 'SFD 262  FFD 248  GD 285  TT 286  PrF 1.00 Pr1 0.87 Pr2 0.13 PrS 0.00 perhaps',\n",
       " 'SFD 251  FFD 246  GD 259  TT 265  PrF 0.91 Pr1 0.79 Pr2 0.08 PrS 0.13 have',\n",
       " 'SFD 233  FFD 231  GD 235  TT 251  PrF 0.85 Pr1 0.81 Pr2 0.02 PrS 0.17 won',\n",
       " 'SFD 218  FFD 217  GD 256  TT 270  PrF 0.92 Pr1 0.72 Pr2 0.18 PrS 0.10 more',\n",
       " 'SFD 227  FFD 222  GD 253  TT 263  PrF 0.95 Pr1 0.75 Pr2 0.16 PrS 0.09 than',\n",
       " 'SFD 217  FFD 217  GD 228  TT 228  PrF 0.84 Pr1 0.75 Pr2 0.05 PrS 0.20 his',\n",
       " 'SFD 211  FFD 211  GD 211  TT 209  PrF 0.51 Pr1 0.50 Pr2 0.00 PrS 0.50 a',\n",
       " 'SFD 232  FFD 234  GD 386  TT 393  PrF 1.00 Pr1 0.44 Pr2 0.56 PrS 0.00 banker',\n",
       " 'SFD 277  FFD 249  GD 316  TT 324  PrF 0.97 Pr1 0.72 Pr2 0.24 PrS 0.04 engaged',\n",
       " 'SFD 237  FFD 236  GD 241  TT 246  PrF 0.71 Pr1 0.67 Pr2 0.02 PrS 0.31 at',\n",
       " 'SFD 245  FFD 226  GD 313  TT 334  PrF 1.00 Pr1 0.65 Pr2 0.34 PrS 0.01 enormous',\n",
       " 'SFD 209  FFD 210  GD 211  TT 210  PrF 0.87 Pr1 0.85 Pr2 0.01 PrS 0.14 the',\n",
       " 'SFD 242  FFD 236  GD 270  TT 281  PrF 0.94 Pr1 0.76 Pr2 0.14 PrS 0.10 whole',\n",
       " 'SFD 221  FFD 220  GD 227  TT 239  PrF 0.67 Pr1 0.63 Pr2 0.03 PrS 0.34 of',\n",
       " 'SFD 217  FFD 219  GD 303  TT 310  PrF 0.97 Pr1 0.59 Pr2 0.38 PrS 0.03 their',\n",
       " 'SFD 247  FFD 245  GD 257  TT 263  PrF 0.92 Pr1 0.84 Pr2 0.06 PrS 0.10 cash',\n",
       " 'SFD 214  FFD 216  GD 229  TT 233  PrF 0.68 Pr1 0.60 Pr2 0.05 PrS 0.35 in',\n",
       " 'SFD 194  FFD 200  GD 237  TT 248  PrF 0.89 Pr1 0.68 Pr2 0.17 PrS 0.15 his',\n",
       " 'SFD 228  FFD 228  GD 228  TT 227  PrF 0.91 Pr1 0.88 Pr2 0.00 PrS 0.12 was',\n",
       " 'SFD 221  FFD 221  GD 249  TT 268  PrF 0.97 Pr1 0.81 Pr2 0.14 PrS 0.05 also',\n",
       " 'SFD 224  FFD 224  GD 224  TT 242  PrF 0.45 Pr1 0.41 Pr2 0.00 PrS 0.59 a',\n",
       " 'SFD 230  FFD 219  GD 339  TT 360  PrF 1.00 Pr1 0.46 Pr2 0.54 PrS 0.00 beaver',\n",
       " 'SFD 236  FFD 233  GD 243  TT 249  PrF 0.86 Pr1 0.78 Pr2 0.05 PrS 0.17 that',\n",
       " 'SFD 247  FFD 234  GD 289  TT 307  PrF 0.94 Pr1 0.71 Pr2 0.23 PrS 0.06 paced',\n",
       " 'SFD 222  FFD 222  GD 225  TT 234  PrF 0.71 Pr1 0.69 Pr2 0.01 PrS 0.30 on',\n",
       " 'SFD 200  FFD 213  GD 252  TT 259  PrF 0.93 Pr1 0.72 Pr2 0.21 PrS 0.07 the',\n",
       " 'SFD 226  FFD 218  GD 257  TT 267  PrF 0.99 Pr1 0.89 Pr2 0.10 PrS 0.01 would',\n",
       " 'SFD 258  FFD 256  GD 263  TT 258  PrF 0.76 Pr1 0.68 Pr2 0.04 PrS 0.28 sit',\n",
       " 'SFD 242  FFD 233  GD 300  TT 329  PrF 0.98 Pr1 0.71 Pr2 0.26 PrS 0.03 making',\n",
       " 'SFD 252  FFD 243  GD 266  TT 275  PrF 0.88 Pr1 0.74 Pr2 0.11 PrS 0.15 lace',\n",
       " 'SFD 227  FFD 226  GD 230  TT 236  PrF 0.69 Pr1 0.66 Pr2 0.01 PrS 0.33 in',\n",
       " 'SFD 194  FFD 207  GD 237  TT 245  PrF 0.88 Pr1 0.71 Pr2 0.16 PrS 0.13 the',\n",
       " 'SFD 220  FFD 220  GD 220  TT 221  PrF 0.91 Pr1 0.89 Pr2 0.00 PrS 0.11 had',\n",
       " 'SFD 233  FFD 222  GD 257  TT 262  PrF 0.97 Pr1 0.81 Pr2 0.13 PrS 0.06 often',\n",
       " 'SFD 233  FFD 231  GD 239  TT 244  PrF 0.85 Pr1 0.78 Pr2 0.04 PrS 0.18 the',\n",
       " 'SFD 262  FFD 241  GD 302  TT 317  PrF 1.00 Pr1 0.77 Pr2 0.22 PrS 0.01 bellman',\n",
       " 'SFD 258  FFD 256  GD 257  TT 273  PrF 0.93 Pr1 0.91 Pr2 0.01 PrS 0.08 said',\n",
       " 'SFD 238  FFD 226  GD 273  TT 280  PrF 0.98 Pr1 0.82 Pr2 0.16 PrS 0.02 saved',\n",
       " 'SFD 232  FFD 228  GD 234  TT 242  PrF 0.88 Pr1 0.82 Pr2 0.04 PrS 0.14 them',\n",
       " 'SFD 225  FFD 223  GD 241  TT 239  PrF 0.97 Pr1 0.80 Pr2 0.10 PrS 0.10 from',\n",
       " 'SFD 254  FFD 250  GD 263  TT 273  PrF 0.95 Pr1 0.85 Pr2 0.07 PrS 0.08 none',\n",
       " 'SFD 219  FFD 220  GD 223  TT 222  PrF 0.69 Pr1 0.64 Pr2 0.01 PrS 0.35 of',\n",
       " 'SFD 198  FFD 202  GD 238  TT 256  PrF 0.86 Pr1 0.69 Pr2 0.15 PrS 0.16 the',\n",
       " 'SFD 238  FFD 218  GD 312  TT 332  PrF 0.99 Pr1 0.62 Pr2 0.36 PrS 0.02 sailors',\n",
       " 'SFD 249  FFD 244  GD 258  TT 268  PrF 0.86 Pr1 0.78 Pr2 0.07 PrS 0.15 knew',\n",
       " 'SFD 241  FFD 240  GD 242  TT 242  PrF 0.88 Pr1 0.86 Pr2 0.01 PrS 0.13 was',\n",
       " 'SFD 218  FFD 219  GD 245  TT 260  PrF 0.82 Pr1 0.68 Pr2 0.10 PrS 0.22 one',\n",
       " 'SFD 222  FFD 222  GD 258  TT 265  PrF 0.81 Pr1 0.62 Pr2 0.15 PrS 0.23 who',\n",
       " 'SFD 208  FFD 209  GD 226  TT 245  PrF 0.87 Pr1 0.76 Pr2 0.09 PrS 0.15 was',\n",
       " 'SFD 225  FFD 215  GD 273  TT 281  PrF 0.94 Pr1 0.68 Pr2 0.25 PrS 0.07 famed',\n",
       " 'SFD 227  FFD 232  GD 245  TT 245  PrF 0.89 Pr1 0.74 Pr2 0.07 PrS 0.19 for',\n",
       " 'SFD 207  FFD 206  GD 213  TT 239  PrF 0.82 Pr1 0.78 Pr2 0.03 PrS 0.19 the',\n",
       " 'SFD 234  FFD 224  GD 302  TT 314  PrF 0.99 Pr1 0.67 Pr2 0.31 PrS 0.02 number',\n",
       " 'SFD 242  FFD 240  GD 244  TT 244  PrF 0.65 Pr1 0.62 Pr2 0.01 PrS 0.37 of',\n",
       " 'SFD 250  FFD 245  GD 259  TT 260  PrF 1.00 Pr1 0.94 Pr2 0.06 PrS 0.00 forgot',\n",
       " 'SFD 246  FFD 245  GD 252  TT 271  PrF 0.95 Pr1 0.89 Pr2 0.05 PrS 0.06 when',\n",
       " 'SFD 227  FFD 226  GD 231  TT 235  PrF 0.66 Pr1 0.62 Pr2 0.02 PrS 0.36 he',\n",
       " 'SFD 240  FFD 224  GD 333  TT 345  PrF 1.00 Pr1 0.56 Pr2 0.43 PrS 0.01 entered',\n",
       " 'SFD 226  FFD 223  GD 229  TT 227  PrF 0.84 Pr1 0.79 Pr2 0.03 PrS 0.18 the',\n",
       " 'SFD 267  FFD 248  GD 305  TT 312  PrF 1.00 Pr1 0.82 Pr2 0.18 PrS 0.00 umbrella',\n",
       " 'SFD 258  FFD 254  GD 260  TT 263  PrF 0.82 Pr1 0.77 Pr2 0.03 PrS 0.20 his',\n",
       " 'SFD 239  FFD 238  GD 269  TT 284  PrF 0.96 Pr1 0.79 Pr2 0.15 PrS 0.06 watch',\n",
       " 'SFD 229  FFD 230  GD 233  TT 250  PrF 0.91 Pr1 0.88 Pr2 0.02 PrS 0.10 all',\n",
       " 'SFD 221  FFD 221  GD 230  TT 239  PrF 0.90 Pr1 0.84 Pr2 0.04 PrS 0.12 his',\n",
       " 'SFD 252  FFD 241  GD 290  TT 296  PrF 0.99 Pr1 0.78 Pr2 0.20 PrS 0.02 jewels',\n",
       " 'SFD 236  FFD 234  GD 238  TT 235  PrF 0.80 Pr1 0.74 Pr2 0.02 PrS 0.24 and',\n",
       " 'SFD 216  FFD 216  GD 216  TT 216  PrF 0.88 Pr1 0.86 Pr2 0.00 PrS 0.14 the',\n",
       " 'SFD 248  FFD 245  GD 288  TT 301  PrF 1.00 Pr1 0.83 Pr2 0.17 PrS 0.00 clothes',\n",
       " 'SFD 249  FFD 249  GD 252  TT 267  PrF 0.80 Pr1 0.75 Pr2 0.01 PrS 0.24 he',\n",
       " 'SFD 205  FFD 209  GD 229  TT 246  PrF 0.84 Pr1 0.72 Pr2 0.10 PrS 0.18 had',\n",
       " 'SFD 244  FFD 226  GD 306  TT 309  PrF 0.99 Pr1 0.66 Pr2 0.31 PrS 0.03 bought',\n",
       " 'SFD 235  FFD 234  GD 235  TT 248  PrF 0.89 Pr1 0.88 Pr2 0.01 PrS 0.11 for',\n",
       " 'SFD 194  FFD 198  GD 210  TT 220  PrF 0.85 Pr1 0.79 Pr2 0.06 PrS 0.15 the']"
      ]
     },
     "execution_count": 103,
     "metadata": {},
     "output_type": "execute_result"
    }
   ],
   "source": [
    "lst"
   ]
  },
  {
   "cell_type": "markdown",
   "metadata": {},
   "source": [
    "### Calculate Error"
   ]
  },
  {
   "cell_type": "markdown",
   "metadata": {},
   "source": [
    "### Grid Search"
   ]
  },
  {
   "cell_type": "markdown",
   "metadata": {},
   "source": [
    "### Evaluate"
   ]
  },
  {
   "cell_type": "markdown",
   "metadata": {},
   "source": [
    "## EZReader Wrapper Usage Document"
   ]
  },
  {
   "cell_type": "markdown",
   "metadata": {},
   "source": [
    "### Load Corpus File"
   ]
  },
  {
   "cell_type": "markdown",
   "metadata": {},
   "source": [
    "```python3\n",
    "def __init__(self, corpus=\"datasets/1_1_corpus.txt\", target=\"datasets/1_1_target.txt\", simulation=\"worddvs\", num_subject=10):\n",
    "        \"\"\"Wrapper for EZReader in Python\n",
    "\n",
    "        Parameters\n",
    "        ----------\n",
    "        corpus : str\n",
    "            name of the corpus file\n",
    "        target : str\n",
    "            name of the target file\n",
    "        \"\"\"\n",
    "        self.corpus = corpus\n",
    "        self.target = target\n",
    "        self.simulation = simulation\n",
    "        self.num_subject = num_subject\n",
    "\n",
    "        self.params = {}\n",
    "        self.output = \"outputs/result.txt\"\n",
    "```"
   ]
  },
  {
   "cell_type": "code",
   "execution_count": null,
   "metadata": {},
   "outputs": [],
   "source": []
  }
 ],
 "metadata": {
  "kernelspec": {
   "display_name": "Python 3",
   "language": "python",
   "name": "python3"
  },
  "language_info": {
   "codemirror_mode": {
    "name": "ipython",
    "version": 3
   },
   "file_extension": ".py",
   "mimetype": "text/x-python",
   "name": "python",
   "nbconvert_exporter": "python",
   "pygments_lexer": "ipython3",
   "version": "3.8.2"
  }
 },
 "nbformat": 4,
 "nbformat_minor": 4
}
