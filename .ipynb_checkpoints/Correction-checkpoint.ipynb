{
 "cells": [
  {
   "cell_type": "code",
   "execution_count": 1,
   "metadata": {},
   "outputs": [],
   "source": [
    "import emip_toolkit as emtk\n",
    "import filter_fixation as ff\n",
    "import numpy as np\n",
    "import pandas as pd\n",
    "import json\n",
    "import time\n",
    "import copy\n",
    "\n",
    "%matplotlib tk      \n",
    "import matplotlib.pyplot as plt\n",
    "import matplotlib.image as mpimg\n",
    "\n",
    "%load_ext autoreload\n",
    "%autoreload 2"
   ]
  },
  {
   "cell_type": "code",
   "execution_count": 7,
   "metadata": {},
   "outputs": [
    {
     "data": {
      "text/plain": [
       "968.8649567130592"
      ]
     },
     "execution_count": 7,
     "metadata": {},
     "output_type": "execute_result"
    }
   ],
   "source": [
    "list(centers.values())[0][0]"
   ]
  },
  {
   "cell_type": "code",
   "execution_count": 2,
   "metadata": {},
   "outputs": [],
   "source": [
    "def draw(centers):\n",
    "    fixs = []\n",
    "    for data in centers.values():\n",
    "        if data[0] == -1 and data[1] == -1: continue\n",
    "        elif data[0] == -2 and data[1] == -2: continue\n",
    "        else:\n",
    "            x, y, duration = data\n",
    "            fixs.append([x, y])\n",
    "    fixs = np.array(fixs)\n",
    "    \n",
    "    l = plt.plot(fixs[:, 0], fixs[:, 1], alpha=0.4, c='orange')\n",
    "    line = l.pop(0)\n",
    "    \n",
    "    scatter_color = ['yellow'] * len(fixs)\n",
    "    if list(centers.values())[0][0] != -2: scatter_color[0] = 'red'\n",
    "    scatter = plt.scatter(fixs[:, 0], fixs[:, 1], alpha=0.5, s=100, c=scatter_color)\n",
    "    return line, scatter\n",
    "\n",
    "def is_fixation(x, y, centers):\n",
    "    if find_index(centers):\n",
    "        # Empty space exists, new fixation needs to be drawn\n",
    "        return None\n",
    "    for index, (c_x, c_y, duration) in centers.items():\n",
    "        # If click is on one fixation -> Hide it\n",
    "        if c_x-12 < x < c_x+12 and c_y-12 < y < c_y+12:\n",
    "            return index\n",
    "    return None\n",
    "\n",
    "def find_index(centers):\n",
    "    for index, data in centers.items():\n",
    "        if data[0] == -1 and data[1] == -1:\n",
    "            return index\n",
    "    return None\n",
    "\n",
    "def changed_fix(participant_id):\n",
    "    count = 0\n",
    "    original = f'originals/R8S1_{participant_id}_ORIGINAL.json'\n",
    "    with open(original, 'r') as file:\n",
    "        original = json.loads(file.read())\n",
    "        \n",
    "    corrected = f'corrections/R8S1_{participant_id}_CORRECTED.json'\n",
    "    with open(corrected, 'r') as file:\n",
    "        corrected = json.loads(file.read())\n",
    "    for key in original:\n",
    "        if original[key] != corrected[key]:\n",
    "            count += 1\n",
    "    return count, len(original)"
   ]
  },
  {
   "cell_type": "code",
   "execution_count": 13,
   "metadata": {},
   "outputs": [],
   "source": [
    "start = time.time()\n",
    "fig = plt.figure(figsize=(12,8))\n",
    "\n",
    "path = 'datasets/GazeBase_TEX/Data/S_8331_S1_TEX.csv'\n",
    "\n",
    "pixel_data = ff.process_GazeBase(path)\n",
    "fixations, saccades = ff.filter_fixations(pixel_data)\n",
    "\n",
    "path = path.split('/')[-1]\n",
    "trial_id = int(path[8])\n",
    "round_id = path[2]\n",
    "participant_id = path[3:6]\n",
    "imagepath = f\"datasets/GazeBase_TEX/StimuliExamples/TEXScreenshots/TEX_R{round_id}S{trial_id}_bg.png\"\n",
    "\n",
    "img = mpimg.imread(imagepath)\n",
    "\n",
    "# Initialize fixation centers\n",
    "centers = {}\n",
    "for index, fixation in fixations.items():\n",
    "    fixation = fixation.get_fixation()\n",
    "    duration = fixation[3]\n",
    "    if duration < 100:\n",
    "        continue\n",
    "    x = fixation[4]\n",
    "    y = fixation[5]\n",
    "    centers[index] = [x, y, duration]\n",
    "\n",
    "line, scatter = draw(centers)\n",
    "history = []\n",
    "\n",
    "def onclick(event):\n",
    "    global line, scatter, centers, clicked, history\n",
    "\n",
    "    if event.button == 1:\n",
    "        x, y = event.xdata, event.ydata\n",
    "        index = is_fixation(x, y, centers)\n",
    "\n",
    "        if index:\n",
    "            # If click is on one fixation -> Hide it\n",
    "            history.append(copy.deepcopy(centers))\n",
    "            centers[index][0] = -1\n",
    "            centers[index][1] = -1\n",
    "        else:\n",
    "            # If click is on empty spot -> Find empty spot and fill with current position\n",
    "            index = find_index(centers)\n",
    "            if index:\n",
    "                centers[index][0] = x\n",
    "                centers[index][1] = y\n",
    "\n",
    "        line.remove()\n",
    "        scatter.remove()\n",
    "\n",
    "        line, scatter = draw(centers)\n",
    "        fig.canvas.draw()\n",
    "\n",
    "        with open(f'corrections/R{round_id}S{trial_id}_{participant_id}_CORRECTED.json', 'w') as file:\n",
    "            file.write(json.dumps(centers))\n",
    "    elif event.button == 3:\n",
    "        x, y = event.xdata, event.ydata\n",
    "        index = is_fixation(x, y, centers)\n",
    "        \n",
    "        if index:\n",
    "            history.append(copy.deepcopy(centers))\n",
    "            centers[index][0] = -2\n",
    "            centers[index][1] = -2\n",
    "            \n",
    "        line.remove()\n",
    "        scatter.remove()\n",
    "\n",
    "        line, scatter = draw(centers)\n",
    "        fig.canvas.draw()\n",
    "\n",
    "        with open(f'corrections/R{round_id}S{trial_id}_{participant_id}_CORRECTED.json', 'w') as file:\n",
    "            file.write(json.dumps(centers))\n",
    "\n",
    "    \n",
    "def onpress(event):\n",
    "    global history, line, scatter, centers\n",
    "\n",
    "    if event.key == 'z':\n",
    "        if len(history) > 0:\n",
    "            centers = history.pop()\n",
    "\n",
    "            line.remove()\n",
    "            scatter.remove()\n",
    "\n",
    "            line, scatter = draw(centers)\n",
    "            fig.canvas.draw()\n",
    "\n",
    "            with open(f'corrections/R{round_id}S{trial_id}_{participant_id}_CORRECTED.json', 'w') as file:\n",
    "                file.write(json.dumps(centers))\n",
    "\n",
    "def onclose(event):\n",
    "    global participant_id\n",
    "    end = time.time()\n",
    "    total_time = round(end-start, 2)\n",
    "    \n",
    "    changed_fixations, total_fixations = changed_fix(participant_id)\n",
    "    \n",
    "    with open(f'corrections/R{round_id}S{trial_id}_{participant_id}_CORRECTED.json', 'r') as file:\n",
    "        fixations_data = json.loads(file.read())\n",
    "    \n",
    "    output = {}\n",
    "    output['total_time'] = total_time\n",
    "    output['changed_fixations'] = changed_fixations\n",
    "    output['total_fixations'] = total_fixations\n",
    "    output['fixations_data'] = fixations_data\n",
    "    \n",
    "    with open(f'corrections/R{round_id}S{trial_id}_{participant_id}_CORRECTED.json', 'w') as file:\n",
    "        file.write(json.dumps(output))\n",
    "\n",
    "cid = fig.canvas.mpl_connect('button_press_event', onclick)\n",
    "cid2 = fig.canvas.mpl_connect('close_event', onclose)\n",
    "cid3 = fig.canvas.mpl_connect('key_press_event', onpress)\n",
    "imgplot = plt.imshow(img)\n",
    "plt.show()"
   ]
  },
  {
   "cell_type": "markdown",
   "metadata": {},
   "source": [
    "1. First fixation in entire trial red\n",
    "2. Undo button\n",
    "3. Many undo"
   ]
  },
  {
   "cell_type": "code",
   "execution_count": 36,
   "metadata": {},
   "outputs": [],
   "source": [
    "filenames = ['R8S1_215_CORRECTED.json', 'R8S1_271_CORRECTED.json', 'R8S1_120_CORRECTED.json', 'R8S1_207_CORRECTED.json', 'R8S1_128_CORRECTED.json', 'R8S1_288_CORRECTED.json', 'R8S1_216_CORRECTED.json', 'R8S1_285_CORRECTED.json', 'R8S1_043_CORRECTED.json', 'R8S1_152_CORRECTED.json', 'R8S1_136_CORRECTED.json', 'R8S1_137_CORRECTED.json', 'R8S1_154_CORRECTED.json', 'R8S1_314_CORRECTED.json', 'R8S1_217_CORRECTED.json', 'R8S1_063_CORRECTED.json', 'R8S1_007_CORRECTED.json', 'R8S1_064_CORRECTED.json', 'R8S1_249_CORRECTED.json', 'R8S1_001_CORRECTED.json', 'R8S1_196_CORRECTED.json', 'R8S1_244_CORRECTED.json', 'R8S1_107_CORRECTED.json', 'R8S1_259_CORRECTED.json', 'R8S1_331_CORRECTED.json', 'R8S1_179_CORRECTED.json', 'R8S1_016_CORRECTED.json', 'R8S1_192_CORRECTED.json', 'R8S1_180_CORRECTED.json']"
   ]
  },
  {
   "cell_type": "code",
   "execution_count": 37,
   "metadata": {},
   "outputs": [
    {
     "name": "stdout",
     "output_type": "stream",
     "text": [
      "R8S1_215_CORRECTED.json\n",
      "R8S1_271_CORRECTED.json\n",
      "R8S1_120_CORRECTED.json\n",
      "R8S1_207_CORRECTED.json\n",
      "R8S1_128_CORRECTED.json\n",
      "R8S1_288_CORRECTED.json\n",
      "R8S1_216_CORRECTED.json\n",
      "R8S1_285_CORRECTED.json\n",
      "R8S1_043_CORRECTED.json\n",
      "R8S1_152_CORRECTED.json\n",
      "R8S1_136_CORRECTED.json\n",
      "R8S1_137_CORRECTED.json\n",
      "R8S1_154_CORRECTED.json\n",
      "R8S1_314_CORRECTED.json\n",
      "R8S1_217_CORRECTED.json\n",
      "R8S1_063_CORRECTED.json\n",
      "R8S1_007_CORRECTED.json\n",
      "R8S1_064_CORRECTED.json\n",
      "R8S1_249_CORRECTED.json\n",
      "R8S1_001_CORRECTED.json\n",
      "R8S1_196_CORRECTED.json\n",
      "R8S1_244_CORRECTED.json\n",
      "R8S1_107_CORRECTED.json\n",
      "R8S1_259_CORRECTED.json\n",
      "R8S1_331_CORRECTED.json\n",
      "R8S1_179_CORRECTED.json\n",
      "R8S1_016_CORRECTED.json\n",
      "R8S1_192_CORRECTED.json\n",
      "R8S1_180_CORRECTED.json\n"
     ]
    }
   ],
   "source": [
    "for file in filenames:\n",
    "    print(file)\n",
    "    participant = file.split('.')[0][5:8]\n",
    "    path = 'datasets/GazeBase_TEX/Data/S_8' + participant + '_S1_TEX.csv'\n",
    "\n",
    "    pixel_data = ff.process_GazeBase(path)\n",
    "    fixations, saccades = ff.filter_fixations(pixel_data)\n",
    "\n",
    "    path = path.split('/')[-1]\n",
    "    trial_id = int(path[8])\n",
    "    round_id = path[2]\n",
    "    participant_id = path[3:6]\n",
    "    imagepath = f\"datasets/GazeBase_TEX/StimuliExamples/TEXScreenshots/TEX_R{round_id}S{trial_id}_bg.png\"\n",
    "\n",
    "\n",
    "# Initialize fixation centers\n",
    "    centers = {}\n",
    "    for index, fixation in fixations.items():\n",
    "        fixation = fixation.get_fixation()\n",
    "        duration = fixation[3]\n",
    "        if duration < 100:\n",
    "            continue\n",
    "        x = fixation[4]\n",
    "        y = fixation[5]\n",
    "        centers[index] = [x, y, duration]\n",
    "    \n",
    "    with open('originals/R8S1_' + participant + '_ORIGINAL.json', 'w') as output:\n",
    "        output.write(json.dumps(centers))"
   ]
  },
  {
   "cell_type": "code",
   "execution_count": 37,
   "metadata": {},
   "outputs": [
    {
     "name": "stdout",
     "output_type": "stream",
     "text": [
      "R8S1_192.txt True\n",
      "R8S1_179.txt True\n",
      "R8S1_152.txt True\n",
      "R8S1_180.txt True\n",
      "R8S1_154.txt True\n",
      "R8S1_196.txt True\n",
      "R8S1_244.txt True\n",
      "R8S1_331.txt True\n",
      "R8S1_285.txt True\n",
      "R8S1_120.txt True\n",
      "R8S1_043.txt False\n",
      "R8S1_137.txt True\n",
      "R8S1_136.txt True\n",
      "R8S1_259.txt True\n",
      "R8S1_271.txt True\n",
      "R8S1_107.txt True\n",
      "R8S1_064.txt True\n",
      "R8S1_288.txt True\n",
      "R8S1_128.txt True\n",
      "R8S1_314.txt True\n",
      "R8S1_249.txt True\n",
      "R8S1_063.txt True\n",
      "R8S1_207.txt True\n",
      "R8S1_007.txt False\n",
      "R8S1_016.txt False\n",
      "R8S1_215.txt True\n",
      "R8S1_001.txt False\n",
      "R8S1_217.txt True\n",
      "R8S1_216.txt True\n"
     ]
    }
   ],
   "source": [
    "for file in filenames:\n",
    "    with open('corrections/' + file) as correction:\n",
    "        cor = json.loads(correction.read())\n",
    "    participant_id = file.split('.')[0]\n",
    "    with open('ori/' + participant_id + '_ORIGINAL.json') as original:\n",
    "        ori = json.loads(original.read())\n",
    "        \n",
    "        print(file, len(cor) == len(ori))"
   ]
  },
  {
   "cell_type": "code",
   "execution_count": 48,
   "metadata": {},
   "outputs": [],
   "source": [
    "for file in filenames:\n",
    "    new_output = {}\n",
    "    with open('corrections/' + file) as correction:\n",
    "        cor = json.loads(correction.read())\n",
    "    for key in cor:\n",
    "        if cor[key][2] >= 90:\n",
    "            new_output[key] = cor[key]\n",
    "    with open('ori/' + file.replace('.txt', '') + '_CORRECTED.json', 'w') as output:\n",
    "        output.write(json.dumps(new_output))"
   ]
  },
  {
   "cell_type": "code",
   "execution_count": 50,
   "metadata": {},
   "outputs": [
    {
     "name": "stdout",
     "output_type": "stream",
     "text": [
      "R8S1_192.txt 264 264\n",
      "R8S1_179.txt 246 246\n",
      "R8S1_152.txt 233 233\n",
      "R8S1_180.txt 271 271\n",
      "R8S1_154.txt 211 211\n",
      "R8S1_196.txt 199 199\n",
      "R8S1_244.txt 245 245\n",
      "R8S1_331.txt 215 215\n",
      "R8S1_285.txt 250 250\n",
      "R8S1_120.txt 217 217\n",
      "R8S1_043.txt 219 219\n",
      "R8S1_137.txt 118 118\n",
      "R8S1_136.txt 139 139\n",
      "R8S1_259.txt 224 224\n",
      "R8S1_271.txt 189 189\n",
      "R8S1_107.txt 214 214\n",
      "R8S1_064.txt 189 189\n",
      "R8S1_288.txt 257 257\n",
      "R8S1_128.txt 217 217\n",
      "R8S1_314.txt 255 255\n",
      "R8S1_249.txt 232 232\n",
      "R8S1_063.txt 218 218\n",
      "R8S1_207.txt 224 224\n",
      "R8S1_007.txt 229 229\n",
      "R8S1_016.txt 186 186\n",
      "R8S1_215.txt 229 229\n",
      "R8S1_001.txt 256 256\n",
      "R8S1_217.txt 229 229\n",
      "R8S1_216.txt 142 142\n"
     ]
    }
   ],
   "source": [
    "for file in filenames:\n",
    "    with open('ori/' + file.replace('.txt', '_CORRECTED.json')) as correction:\n",
    "        cor = json.loads(correction.read())\n",
    "    participant_id = file.split('.')[0]\n",
    "    with open('originals/' + participant_id + '_ORIGINAL.json') as original:\n",
    "        ori = json.loads(original.read())\n",
    "        \n",
    "        print(file, len(cor), len(ori))"
   ]
  },
  {
   "cell_type": "code",
   "execution_count": 34,
   "metadata": {},
   "outputs": [
    {
     "data": {
      "text/plain": [
       "219"
      ]
     },
     "execution_count": 34,
     "metadata": {},
     "output_type": "execute_result"
    }
   ],
   "source": [
    "len(ori)"
   ]
  },
  {
   "cell_type": "code",
   "execution_count": 14,
   "metadata": {},
   "outputs": [],
   "source": [
    "%matplotlib inline"
   ]
  },
  {
   "cell_type": "code",
   "execution_count": 76,
   "metadata": {},
   "outputs": [
    {
     "data": {
      "image/png": "[encoded data removed]",
      "text/plain": [
       "<Figure size 864x576 with 1 Axes>"
      ]
     },
     "metadata": {
      "needs_background": "light"
     },
     "output_type": "display_data"
    }
   ],
   "source": [
    "plt.figure(figsize=(12,8))\n",
    "plt.scatter([1]*10, np.array([1]*10)/range(1, 11))\n",
    "plt.xlim(0,1.5)\n",
    "plt.ylim(0,1.3)\n",
    "plt.annotate(xy=(1.1,1.0), text='$S_1$', size=20)\n",
    "plt.annotate(xy=(1.1,0.5), text='$S_2$', size=20)\n",
    "plt.annotate(xy=(1.1,0.33), text='$S_3$', size=20)\n",
    "plt.annotate(xy=(1.1,0.25), text='$S_4$', size=20)\n",
    "plt.annotate(xy=(1.1,0.20), text='$.$', size=20)\n",
    "plt.annotate(xy=(1.1,0.175), text='$.$', size=20)\n",
    "plt.annotate(xy=(1.1,0.15), text='$.$', size=20)\n",
    "plt.annotate(xy=(1.1,0.07), text='$S_n$', size=20)\n",
    "plt.xlabel('x', size=15)\n",
    "plt.ylabel('y', size=15)\n",
    "plt.title('$S_n = (1, \\\\frac{1}{n})$', size=20)\n",
    "plt.savefig('Graph1.png')"
   ]
  },
  {
   "cell_type": "code",
   "execution_count": 75,
   "metadata": {},
   "outputs": [
    {
     "data": {
      "image/png": "[encoded data removed]",
      "text/plain": [
       "<Figure size 864x576 with 1 Axes>"
      ]
     },
     "metadata": {
      "needs_background": "light"
     },
     "output_type": "display_data"
    }
   ],
   "source": [
    "plt.figure(figsize=(12,8))\n",
    "plt.scatter([1,2,3,4, 6, 10], np.array([1,2,3,4,6, 10]) ** 2)\n",
    "plt.xlim(0,8)\n",
    "plt.ylim(0,45)\n",
    "plt.annotate(xy=(0.9,3), text='$S_1$', size=20)\n",
    "plt.annotate(xy=(1.9,6), text='$S_2$', size=20)\n",
    "plt.annotate(xy=(2.9,11), text='$S_3$', size=20)\n",
    "plt.annotate(xy=(3.9,18), text='$S_4$', size=20)\n",
    "plt.annotate(xy=(5.9,38), text='$S_n$', size=20)\n",
    "plt.xlabel('x', size=15)\n",
    "plt.ylabel('y', size=15)\n",
    "plt.xticks([0,1,2,3,4,6])\n",
    "plt.gca().set_xticklabels([0,1,2,3,4,'$n$'], size=10)\n",
    "plt.yticks([0,1,4,9,16,36])\n",
    "plt.gca().set_yticklabels([0,1,4,9,16,'$n^2$'], size=10)\n",
    "plt.title('$S_n = (n, n^2)$', size=20)\n",
    "plt.savefig('Graph2.png')"
   ]
  },
  {
   "cell_type": "code",
   "execution_count": null,
   "metadata": {},
   "outputs": [],
   "source": []
  }
 ],
 "metadata": {
  "kernelspec": {
   "display_name": "Python 3",
   "language": "python",
   "name": "python3"
  },
  "language_info": {
   "codemirror_mode": {
    "name": "ipython",
    "version": 3
   },
   "file_extension": ".py",
   "mimetype": "text/x-python",
   "name": "python",
   "nbconvert_exporter": "python",
   "pygments_lexer": "ipython3",
   "version": "3.8.2"
  }
 },
 "nbformat": 4,
 "nbformat_minor": 4
}
