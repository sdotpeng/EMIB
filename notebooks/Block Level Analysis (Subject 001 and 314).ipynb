{
 "cells": [
  {
   "cell_type": "code",
   "execution_count": 99,
   "metadata": {},
   "outputs": [],
   "source": [
    "import numpy as np\n",
    "import pandas as pd\n",
    "from sklearn.ensemble import RandomForestClassifier\n",
    "from sklearn.model_selection import train_test_split\n",
    "from sklearn.preprocessing import StandardScaler\n",
    "from sklearn import metrics\n",
    "from sklearn.model_selection import cross_val_score\n",
    "from sklearn.model_selection import cross_val_predict\n",
    "from sklearn.metrics import precision_score, recall_score, f1_score, confusion_matrix\n",
    "import statistics\n",
    "import matplotlib.pyplot as plt\n",
    "import seaborn as sns"
   ]
  },
  {
   "cell_type": "code",
   "execution_count": 174,
   "metadata": {},
   "outputs": [],
   "source": [
    "dtype = {'file': str,\n",
    "         'block': str,\n",
    "         'tokens': str,\n",
    "         'subject': str,\n",
    "         'duration': int,\n",
    "         'nSFD': float,\n",
    "         'nFFD': float,\n",
    "         'nGD': float,\n",
    "         'nTT': float,\n",
    "         'PrF': float,\n",
    "         'Pr1': float,\n",
    "         'Pr2': float,\n",
    "         'PrS': float,\n",
    "         'length': int,\n",
    "         'wpm': float}\n",
    "\n",
    "df = pd.read_csv(\"eight_metrics_block_level.csv\", dtype=dtype)"
   ]
  },
  {
   "cell_type": "code",
   "execution_count": 155,
   "metadata": {},
   "outputs": [],
   "source": [
    "df = df[(df['subject'] == '215') | (df['subject'] == '180')]"
   ]
  },
  {
   "cell_type": "code",
   "execution_count": 156,
   "metadata": {},
   "outputs": [
    {
     "data": {
      "text/html": [
       "<div>\n",
       "<style scoped>\n",
       "    .dataframe tbody tr th:only-of-type {\n",
       "        vertical-align: middle;\n",
       "    }\n",
       "\n",
       "    .dataframe tbody tr th {\n",
       "        vertical-align: top;\n",
       "    }\n",
       "\n",
       "    .dataframe thead th {\n",
       "        text-align: right;\n",
       "    }\n",
       "</style>\n",
       "<table border=\"1\" class=\"dataframe\">\n",
       "  <thead>\n",
       "    <tr style=\"text-align: right;\">\n",
       "      <th></th>\n",
       "      <th>file</th>\n",
       "      <th>block</th>\n",
       "      <th>tokens</th>\n",
       "      <th>subject</th>\n",
       "      <th>duration</th>\n",
       "      <th>nSFD</th>\n",
       "      <th>nFFD</th>\n",
       "      <th>nGD</th>\n",
       "      <th>nTT</th>\n",
       "      <th>PrF</th>\n",
       "      <th>Pr1</th>\n",
       "      <th>Pr2</th>\n",
       "      <th>PrS</th>\n",
       "      <th>length</th>\n",
       "      <th>wpm</th>\n",
       "    </tr>\n",
       "  </thead>\n",
       "  <tbody>\n",
       "    <tr>\n",
       "      <th>2086</th>\n",
       "      <td>11</td>\n",
       "      <td>2</td>\n",
       "      <td>NaN</td>\n",
       "      <td>180</td>\n",
       "      <td>8372</td>\n",
       "      <td>NaN</td>\n",
       "      <td>48.125932</td>\n",
       "      <td>53.090424</td>\n",
       "      <td>87.210507</td>\n",
       "      <td>0.718750</td>\n",
       "      <td>0.343750</td>\n",
       "      <td>0.375000</td>\n",
       "      <td>0.281250</td>\n",
       "      <td>32</td>\n",
       "      <td>229.335882</td>\n",
       "    </tr>\n",
       "    <tr>\n",
       "      <th>2087</th>\n",
       "      <td>11</td>\n",
       "      <td>1</td>\n",
       "      <td>NaN</td>\n",
       "      <td>180</td>\n",
       "      <td>1128</td>\n",
       "      <td>NaN</td>\n",
       "      <td>42.523810</td>\n",
       "      <td>42.523810</td>\n",
       "      <td>118.476190</td>\n",
       "      <td>1.000000</td>\n",
       "      <td>0.000000</td>\n",
       "      <td>1.000000</td>\n",
       "      <td>0.000000</td>\n",
       "      <td>2</td>\n",
       "      <td>106.382979</td>\n",
       "    </tr>\n",
       "    <tr>\n",
       "      <th>2088</th>\n",
       "      <td>11</td>\n",
       "      <td>3</td>\n",
       "      <td>NaN</td>\n",
       "      <td>180</td>\n",
       "      <td>10180</td>\n",
       "      <td>NaN</td>\n",
       "      <td>64.185684</td>\n",
       "      <td>65.099145</td>\n",
       "      <td>121.023504</td>\n",
       "      <td>0.722222</td>\n",
       "      <td>0.250000</td>\n",
       "      <td>0.472222</td>\n",
       "      <td>0.277778</td>\n",
       "      <td>36</td>\n",
       "      <td>212.180747</td>\n",
       "    </tr>\n",
       "    <tr>\n",
       "      <th>2089</th>\n",
       "      <td>11</td>\n",
       "      <td>4</td>\n",
       "      <td>NaN</td>\n",
       "      <td>180</td>\n",
       "      <td>3765</td>\n",
       "      <td>NaN</td>\n",
       "      <td>34.116270</td>\n",
       "      <td>36.618254</td>\n",
       "      <td>58.768552</td>\n",
       "      <td>0.428571</td>\n",
       "      <td>0.142857</td>\n",
       "      <td>0.285714</td>\n",
       "      <td>0.571429</td>\n",
       "      <td>28</td>\n",
       "      <td>446.215139</td>\n",
       "    </tr>\n",
       "    <tr>\n",
       "      <th>2090</th>\n",
       "      <td>11</td>\n",
       "      <td>5</td>\n",
       "      <td>NaN</td>\n",
       "      <td>180</td>\n",
       "      <td>7421</td>\n",
       "      <td>NaN</td>\n",
       "      <td>53.146627</td>\n",
       "      <td>54.757738</td>\n",
       "      <td>100.157407</td>\n",
       "      <td>0.600000</td>\n",
       "      <td>0.166667</td>\n",
       "      <td>0.433333</td>\n",
       "      <td>0.400000</td>\n",
       "      <td>30</td>\n",
       "      <td>242.554912</td>\n",
       "    </tr>\n",
       "  </tbody>\n",
       "</table>\n",
       "</div>"
      ],
      "text/plain": [
       "     file block tokens subject  duration  nSFD       nFFD        nGD  \\\n",
       "2086   11     2    NaN     180      8372   NaN  48.125932  53.090424   \n",
       "2087   11     1    NaN     180      1128   NaN  42.523810  42.523810   \n",
       "2088   11     3    NaN     180     10180   NaN  64.185684  65.099145   \n",
       "2089   11     4    NaN     180      3765   NaN  34.116270  36.618254   \n",
       "2090   11     5    NaN     180      7421   NaN  53.146627  54.757738   \n",
       "\n",
       "             nTT       PrF       Pr1       Pr2       PrS  length         wpm  \n",
       "2086   87.210507  0.718750  0.343750  0.375000  0.281250      32  229.335882  \n",
       "2087  118.476190  1.000000  0.000000  1.000000  0.000000       2  106.382979  \n",
       "2088  121.023504  0.722222  0.250000  0.472222  0.277778      36  212.180747  \n",
       "2089   58.768552  0.428571  0.142857  0.285714  0.571429      28  446.215139  \n",
       "2090  100.157407  0.600000  0.166667  0.433333  0.400000      30  242.554912  "
      ]
     },
     "execution_count": 156,
     "metadata": {},
     "output_type": "execute_result"
    }
   ],
   "source": [
    "df.head()"
   ]
  },
  {
   "cell_type": "code",
   "execution_count": 157,
   "metadata": {},
   "outputs": [],
   "source": [
    "data = df[['nFFD', 'nGD', 'nTT', 'PrF', 'Pr1', 'Pr2', 'PrS', 'wpm']]\n",
    "target = df['subject']"
   ]
  },
  {
   "cell_type": "markdown",
   "metadata": {},
   "source": [
    "### Drop High Correlated Features"
   ]
  },
  {
   "cell_type": "code",
   "execution_count": 158,
   "metadata": {},
   "outputs": [],
   "source": [
    "# Create correlation matrix\n",
    "corr_matrix = data.corr().abs()\n",
    "\n",
    "# Select upper triangle of correlation matrix\n",
    "upper = corr_matrix.where(np.triu(np.ones(corr_matrix.shape), k=1).astype(np.bool))\n",
    "\n",
    "# Find index of feature columns with correlation greater than 0.95\n",
    "to_drop = [column for column in upper.columns if any(upper[column] > 0.95)]"
   ]
  },
  {
   "cell_type": "code",
   "execution_count": 159,
   "metadata": {},
   "outputs": [],
   "source": [
    "data = data.drop(data[to_drop], axis=1)"
   ]
  },
  {
   "cell_type": "markdown",
   "metadata": {},
   "source": [
    "### Scale Data Using StandardScaler"
   ]
  },
  {
   "cell_type": "code",
   "execution_count": 160,
   "metadata": {},
   "outputs": [],
   "source": [
    "data = pd.DataFrame(data=StandardScaler().fit_transform(data), columns=data.columns, index=data.index)"
   ]
  },
  {
   "cell_type": "code",
   "execution_count": 161,
   "metadata": {},
   "outputs": [
    {
     "data": {
      "text/html": [
       "<div>\n",
       "<style scoped>\n",
       "    .dataframe tbody tr th:only-of-type {\n",
       "        vertical-align: middle;\n",
       "    }\n",
       "\n",
       "    .dataframe tbody tr th {\n",
       "        vertical-align: top;\n",
       "    }\n",
       "\n",
       "    .dataframe thead th {\n",
       "        text-align: right;\n",
       "    }\n",
       "</style>\n",
       "<table border=\"1\" class=\"dataframe\">\n",
       "  <thead>\n",
       "    <tr style=\"text-align: right;\">\n",
       "      <th></th>\n",
       "      <th>nFFD</th>\n",
       "      <th>nTT</th>\n",
       "      <th>PrF</th>\n",
       "      <th>Pr1</th>\n",
       "      <th>Pr2</th>\n",
       "      <th>wpm</th>\n",
       "    </tr>\n",
       "  </thead>\n",
       "  <tbody>\n",
       "    <tr>\n",
       "      <th>2086</th>\n",
       "      <td>-0.443921</td>\n",
       "      <td>-0.690919</td>\n",
       "      <td>0.013536</td>\n",
       "      <td>0.759267</td>\n",
       "      <td>-0.573793</td>\n",
       "      <td>0.151548</td>\n",
       "    </tr>\n",
       "    <tr>\n",
       "      <th>2087</th>\n",
       "      <td>-0.819144</td>\n",
       "      <td>0.226226</td>\n",
       "      <td>2.424919</td>\n",
       "      <td>-2.105062</td>\n",
       "      <td>3.431296</td>\n",
       "      <td>-1.440285</td>\n",
       "    </tr>\n",
       "    <tr>\n",
       "      <th>2088</th>\n",
       "      <td>0.631739</td>\n",
       "      <td>0.300949</td>\n",
       "      <td>0.043307</td>\n",
       "      <td>-0.021914</td>\n",
       "      <td>0.049220</td>\n",
       "      <td>-0.070555</td>\n",
       "    </tr>\n",
       "    <tr>\n",
       "      <th>2089</th>\n",
       "      <td>-1.382270</td>\n",
       "      <td>-1.525233</td>\n",
       "      <td>-2.474398</td>\n",
       "      <td>-0.914691</td>\n",
       "      <td>-1.145949</td>\n",
       "      <td>2.959415</td>\n",
       "    </tr>\n",
       "    <tr>\n",
       "      <th>2090</th>\n",
       "      <td>-0.107642</td>\n",
       "      <td>-0.311136</td>\n",
       "      <td>-1.004603</td>\n",
       "      <td>-0.716296</td>\n",
       "      <td>-0.199985</td>\n",
       "      <td>0.322690</td>\n",
       "    </tr>\n",
       "  </tbody>\n",
       "</table>\n",
       "</div>"
      ],
      "text/plain": [
       "          nFFD       nTT       PrF       Pr1       Pr2       wpm\n",
       "2086 -0.443921 -0.690919  0.013536  0.759267 -0.573793  0.151548\n",
       "2087 -0.819144  0.226226  2.424919 -2.105062  3.431296 -1.440285\n",
       "2088  0.631739  0.300949  0.043307 -0.021914  0.049220 -0.070555\n",
       "2089 -1.382270 -1.525233 -2.474398 -0.914691 -1.145949  2.959415\n",
       "2090 -0.107642 -0.311136 -1.004603 -0.716296 -0.199985  0.322690"
      ]
     },
     "execution_count": 161,
     "metadata": {},
     "output_type": "execute_result"
    }
   ],
   "source": [
    "data.head()"
   ]
  },
  {
   "cell_type": "markdown",
   "metadata": {},
   "source": [
    "### Train Test Split"
   ]
  },
  {
   "cell_type": "code",
   "execution_count": 162,
   "metadata": {},
   "outputs": [],
   "source": [
    "train_data, test_data, train_target, test_target = train_test_split(data, target, test_size=0.2)"
   ]
  },
  {
   "cell_type": "code",
   "execution_count": 163,
   "metadata": {},
   "outputs": [
    {
     "name": "stdout",
     "output_type": "stream",
     "text": [
      "train data: (189, 6)\n",
      "train data: (48, 6)\n",
      "train target: (189,)\n",
      "test target: (48,)\n"
     ]
    }
   ],
   "source": [
    "print(\"train data:\", train_data.shape)\n",
    "print(\"train data:\", test_data.shape)\n",
    "print('train target:', train_target.shape)\n",
    "print('test target:', test_target.shape)"
   ]
  },
  {
   "cell_type": "markdown",
   "metadata": {},
   "source": [
    "### Use Random Forest to Train the Data"
   ]
  },
  {
   "cell_type": "code",
   "execution_count": 164,
   "metadata": {},
   "outputs": [
    {
     "data": {
      "text/plain": [
       "RandomForestClassifier()"
      ]
     },
     "execution_count": 164,
     "metadata": {},
     "output_type": "execute_result"
    }
   ],
   "source": [
    "clf = RandomForestClassifier()\n",
    "\n",
    "clf.fit(train_data, train_target)"
   ]
  },
  {
   "cell_type": "markdown",
   "metadata": {},
   "source": [
    "### Cross Validation"
   ]
  },
  {
   "cell_type": "code",
   "execution_count": 165,
   "metadata": {},
   "outputs": [
    {
     "data": {
      "text/plain": [
       "0.671345029239766"
      ]
     },
     "execution_count": 165,
     "metadata": {},
     "output_type": "execute_result"
    }
   ],
   "source": [
    "# Accuracy\n",
    "statistics.mean(cross_val_score(clf, train_data, train_target, cv=10, scoring=\"accuracy\"))"
   ]
  },
  {
   "cell_type": "code",
   "execution_count": 166,
   "metadata": {},
   "outputs": [],
   "source": [
    "test_predict = cross_val_predict(clf, test_data, test_target, cv=10)"
   ]
  },
  {
   "cell_type": "code",
   "execution_count": 168,
   "metadata": {},
   "outputs": [
    {
     "data": {
      "text/plain": [
       "0.4666666666666667"
      ]
     },
     "execution_count": 168,
     "metadata": {},
     "output_type": "execute_result"
    }
   ],
   "source": [
    "precision_score(test_target, test_predict, pos_label='215')"
   ]
  },
  {
   "cell_type": "code",
   "execution_count": 146,
   "metadata": {},
   "outputs": [
    {
     "data": {
      "text/plain": [
       "0.4"
      ]
     },
     "execution_count": 146,
     "metadata": {},
     "output_type": "execute_result"
    }
   ],
   "source": [
    "recall_score(test_target, test_predict, pos_label='314')"
   ]
  },
  {
   "cell_type": "code",
   "execution_count": 147,
   "metadata": {},
   "outputs": [
    {
     "data": {
      "text/plain": [
       "0.41025641025641024"
      ]
     },
     "execution_count": 147,
     "metadata": {},
     "output_type": "execute_result"
    }
   ],
   "source": [
    "f1_score(test_target, test_predict, pos_label='314')"
   ]
  },
  {
   "cell_type": "code",
   "execution_count": 148,
   "metadata": {},
   "outputs": [
    {
     "data": {
      "text/plain": [
       "array([[17, 11],\n",
       "       [12,  8]])"
      ]
     },
     "execution_count": 148,
     "metadata": {},
     "output_type": "execute_result"
    }
   ],
   "source": [
    "confusion_matrix(test_target, test_predict)"
   ]
  },
  {
   "cell_type": "markdown",
   "metadata": {},
   "source": [
    "### Other Classifiers"
   ]
  },
  {
   "cell_type": "code",
   "execution_count": 169,
   "metadata": {},
   "outputs": [],
   "source": [
    "from sklearn.model_selection import train_test_split\n",
    "from sklearn.preprocessing import StandardScaler\n",
    "from sklearn.datasets import make_moons, make_circles, make_classification\n",
    "from sklearn.neural_network import MLPClassifier\n",
    "from sklearn.neighbors import KNeighborsClassifier\n",
    "from sklearn.svm import SVC\n",
    "from sklearn.gaussian_process import GaussianProcessClassifier\n",
    "from sklearn.gaussian_process.kernels import RBF\n",
    "from sklearn.tree import DecisionTreeClassifier\n",
    "from sklearn.ensemble import RandomForestClassifier, AdaBoostClassifier\n",
    "from sklearn.naive_bayes import GaussianNB\n",
    "from sklearn.discriminant_analysis import QuadraticDiscriminantAnalysis\n",
    "\n",
    "from sklearn.metrics import plot_confusion_matrix\n",
    "\n",
    "from tqdm import tqdm"
   ]
  },
  {
   "cell_type": "code",
   "execution_count": 183,
   "metadata": {},
   "outputs": [],
   "source": [
    "names = [\"Nearest\\nNeighbors\", \"Linear\\nSVM\", \"RBF\\nSVM\", \"Gaussian\\nProcess\",\n",
    "         \"Decision\\nTree\", \"Random\\nForest\", \"Neural\\nNetwork\", \"AdaBoost\",\n",
    "         \"Naive\\nBayes\"]\n",
    "\n",
    "classifiers = [\n",
    "    KNeighborsClassifier(5),\n",
    "    SVC(kernel=\"linear\", C=0.025),\n",
    "    SVC(gamma=2, C=1),\n",
    "    GaussianProcessClassifier(1.0 * RBF(1.0)),\n",
    "    DecisionTreeClassifier(max_depth=5),\n",
    "    RandomForestClassifier(max_depth=5),\n",
    "    MLPClassifier(alpha=1, max_iter=1000),\n",
    "    AdaBoostClassifier(),\n",
    "    GaussianNB()]"
   ]
  },
  {
   "cell_type": "code",
   "execution_count": 171,
   "metadata": {},
   "outputs": [
    {
     "name": "stderr",
     "output_type": "stream",
     "text": [
      "3it [00:00, 11.58it/s]/Users/speng/Library/Python/3.8/lib/python/site-packages/sklearn/gaussian_process/kernels.py:402: ConvergenceWarning: The optimal value found for dimension 0 of parameter k1__constant_value is close to the specified lower bound 1e-05. Decreasing the bound and calling fit again may find a better value.\n",
      "  warnings.warn(\"The optimal value found for \"\n",
      "9it [00:09,  1.02s/it]\n"
     ]
    }
   ],
   "source": [
    "accuracy, precision, recall, f1, confusion = [], [], [], [], []\n",
    "\n",
    "for name, clf in tqdm(zip(names, classifiers)):\n",
    "    train_data, test_data, train_target, test_target = train_test_split(data, target, test_size=0.25)\n",
    "    clf.fit(train_data, train_target)\n",
    "    \n",
    "    accuracy.append(statistics.mean(cross_val_score(clf, train_data, train_target, cv=10, scoring=\"accuracy\")))\n",
    "    \n",
    "    test_predict = cross_val_predict(clf, test_data, test_target, cv=10)\n",
    "    precision.append(precision_score(test_target, test_predict, pos_label='180'))\n",
    "    recall.append(recall_score(test_target, test_predict, pos_label='180'))\n",
    "    f1.append(f1_score(test_target, test_predict, pos_label='180'))\n",
    "    \n",
    "    confusion.append(confusion_matrix(test_target, test_predict))"
   ]
  },
  {
   "cell_type": "code",
   "execution_count": 230,
   "metadata": {},
   "outputs": [
    {
     "data": {
      "image/png": "[encoded data removed]",
      "text/plain": [
       "<Figure size 1296x576 with 1 Axes>"
      ]
     },
     "metadata": {
      "needs_background": "light"
     },
     "output_type": "display_data"
    }
   ],
   "source": [
    "plt.rcParams[\"font.family\"] = \"Helvetica\"\n",
    "\n",
    "fig, ax = plt.subplots(figsize=(18,8))\n",
    "\n",
    "ax.plot(names, accuracy, label='Accuracy score')\n",
    "ax.plot(names, precision, linestyle='dashed', label='Precision score')\n",
    "ax.plot(names, recall, linestyle='dashed', label='Recall score')\n",
    "ax.plot(names, f1, linestyle='dashed', label='F1 score')\n",
    "\n",
    "ax.scatter(names, accuracy)\n",
    "ax.scatter(names, precision)\n",
    "ax.scatter(names, recall)\n",
    "ax.scatter(names, f1)\n",
    "ax.legend(frameon=True)\n",
    "plt.xticks(fontsize=13)\n",
    "\n",
    "plt.ylim((0.0,1.0))\n",
    "\n",
    "plt.annotate(f'Accuracy: {round(accuracy[5], 2)}',xy=(names[5], accuracy[5]),xytext=(+30,100), textcoords='offset points', fontsize=13,\n",
    "             arrowprops=dict(arrowstyle='<-', connectionstyle='arc3,rad=.1'))\n",
    "\n",
    "plt.annotate(f'Accuracy: {round(accuracy[6], 2)}',xy=(names[6], accuracy[6]),xytext=(-50,-120), textcoords='offset points', fontsize=13,\n",
    "             arrowprops=dict(arrowstyle='<-', connectionstyle='arc3,rad=.2'))\n",
    "\n",
    "ax.set_title(\"Results in Subject Classification with Different Classifiers\", fontsize=18);"
   ]
  },
  {
   "cell_type": "code",
   "execution_count": 175,
   "metadata": {},
   "outputs": [
    {
     "data": {
      "text/plain": [
       "180    120\n",
       "314    118\n",
       "215    117\n",
       "288    117\n",
       "128    116\n",
       "192    114\n",
       "043    113\n",
       "016    112\n",
       "259    111\n",
       "196    110\n",
       "063    110\n",
       "207    109\n",
       "181    108\n",
       "001    106\n",
       "152    106\n",
       "285    104\n",
       "007    103\n",
       "217    103\n",
       "179    102\n",
       "137    102\n",
       "244    102\n",
       "249    101\n",
       "154    100\n",
       "004    100\n",
       "107     98\n",
       "331     97\n",
       "120     96\n",
       "298     94\n",
       "216     93\n",
       "261     92\n",
       "Name: subject, dtype: int64"
      ]
     },
     "execution_count": 175,
     "metadata": {},
     "output_type": "execute_result"
    }
   ],
   "source": [
    "df['subject'].value_counts().head(30)"
   ]
  },
  {
   "cell_type": "code",
   "execution_count": null,
   "metadata": {},
   "outputs": [],
   "source": []
  }
 ],
 "metadata": {
  "kernelspec": {
   "display_name": "Python 3",
   "language": "python",
   "name": "python3"
  },
  "language_info": {
   "codemirror_mode": {
    "name": "ipython",
    "version": 3
   },
   "file_extension": ".py",
   "mimetype": "text/x-python",
   "name": "python",
   "nbconvert_exporter": "python",
   "pygments_lexer": "ipython3",
   "version": "3.8.2"
  }
 },
 "nbformat": 4,
 "nbformat_minor": 4
}
