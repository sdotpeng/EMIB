{
 "cells": [
  {
   "cell_type": "code",
   "execution_count": 2,
   "metadata": {},
   "outputs": [],
   "source": [
    "import numpy as np\n",
    "import pandas as pd\n",
    "from sklearn.ensemble import RandomForestClassifier\n",
    "from sklearn.model_selection import train_test_split\n",
    "from sklearn.preprocessing import StandardScaler\n",
    "from sklearn import metrics\n",
    "from sklearn.model_selection import cross_val_score\n",
    "from sklearn.model_selection import cross_val_predict\n",
    "from sklearn.metrics import precision_score, recall_score, f1_score, confusion_matrix\n",
    "import statistics\n",
    "import matplotlib.pyplot as plt\n",
    "import seaborn as sns"
   ]
  },
  {
   "cell_type": "code",
   "execution_count": 3,
   "metadata": {},
   "outputs": [],
   "source": [
    "df = pd.read_csv('datasets/freq_result.csv')\n",
    "df = df[(df['participant'] == 215) | (df['participant'] == 180)]"
   ]
  },
  {
   "cell_type": "code",
   "execution_count": 4,
   "metadata": {},
   "outputs": [
    {
     "data": {
      "text/html": [
       "<div>\n",
       "<style scoped>\n",
       "    .dataframe tbody tr th:only-of-type {\n",
       "        vertical-align: middle;\n",
       "    }\n",
       "\n",
       "    .dataframe tbody tr th {\n",
       "        vertical-align: top;\n",
       "    }\n",
       "\n",
       "    .dataframe thead th {\n",
       "        text-align: right;\n",
       "    }\n",
       "</style>\n",
       "<table border=\"1\" class=\"dataframe\">\n",
       "  <thead>\n",
       "    <tr style=\"text-align: right;\">\n",
       "      <th></th>\n",
       "      <th>index</th>\n",
       "      <th>round</th>\n",
       "      <th>session</th>\n",
       "      <th>participant</th>\n",
       "      <th>line_part</th>\n",
       "      <th>stimuli_image</th>\n",
       "      <th>stimuli_text</th>\n",
       "      <th>timestamp</th>\n",
       "      <th>duration</th>\n",
       "      <th>x_cord</th>\n",
       "      <th>y_cord</th>\n",
       "      <th>aoi_x</th>\n",
       "      <th>aoi_y</th>\n",
       "      <th>aoi_width</th>\n",
       "      <th>aoi_height</th>\n",
       "      <th>token</th>\n",
       "      <th>length</th>\n",
       "      <th>CobMln</th>\n",
       "    </tr>\n",
       "  </thead>\n",
       "  <tbody>\n",
       "    <tr>\n",
       "      <th>101944</th>\n",
       "      <td>11180_0</td>\n",
       "      <td>1</td>\n",
       "      <td>1</td>\n",
       "      <td>180</td>\n",
       "      <td>line 3 part 2</td>\n",
       "      <td>TEX_R1S1_bg.png</td>\n",
       "      <td>TEX_R1S1_text.txt</td>\n",
       "      <td>527.0</td>\n",
       "      <td>95</td>\n",
       "      <td>713.897897</td>\n",
       "      <td>131.287367</td>\n",
       "      <td>684.5</td>\n",
       "      <td>104.0</td>\n",
       "      <td>32.0</td>\n",
       "      <td>31.0</td>\n",
       "      <td>he</td>\n",
       "      <td>2</td>\n",
       "      <td>8828</td>\n",
       "    </tr>\n",
       "    <tr>\n",
       "      <th>101945</th>\n",
       "      <td>11180_1</td>\n",
       "      <td>1</td>\n",
       "      <td>1</td>\n",
       "      <td>180</td>\n",
       "      <td>line 3 part 3</td>\n",
       "      <td>TEX_R1S1_bg.png</td>\n",
       "      <td>TEX_R1S1_text.txt</td>\n",
       "      <td>527.0</td>\n",
       "      <td>95</td>\n",
       "      <td>713.897897</td>\n",
       "      <td>131.287367</td>\n",
       "      <td>719.5</td>\n",
       "      <td>104.0</td>\n",
       "      <td>86.0</td>\n",
       "      <td>31.0</td>\n",
       "      <td>landed</td>\n",
       "      <td>6</td>\n",
       "      <td>4</td>\n",
       "    </tr>\n",
       "    <tr>\n",
       "      <th>101946</th>\n",
       "      <td>11180_2</td>\n",
       "      <td>1</td>\n",
       "      <td>1</td>\n",
       "      <td>180</td>\n",
       "      <td>line 4 part 1</td>\n",
       "      <td>TEX_R1S1_bg.png</td>\n",
       "      <td>TEX_R1S1_text.txt</td>\n",
       "      <td>527.0</td>\n",
       "      <td>95</td>\n",
       "      <td>713.897897</td>\n",
       "      <td>131.287367</td>\n",
       "      <td>583.5</td>\n",
       "      <td>137.0</td>\n",
       "      <td>141.0</td>\n",
       "      <td>32.0</td>\n",
       "      <td>supporting</td>\n",
       "      <td>10</td>\n",
       "      <td>20</td>\n",
       "    </tr>\n",
       "    <tr>\n",
       "      <th>101947</th>\n",
       "      <td>11180_3</td>\n",
       "      <td>1</td>\n",
       "      <td>1</td>\n",
       "      <td>180</td>\n",
       "      <td>line 3 part 2</td>\n",
       "      <td>TEX_R1S1_bg.png</td>\n",
       "      <td>TEX_R1S1_text.txt</td>\n",
       "      <td>614.0</td>\n",
       "      <td>86</td>\n",
       "      <td>710.215115</td>\n",
       "      <td>124.706975</td>\n",
       "      <td>684.5</td>\n",
       "      <td>104.0</td>\n",
       "      <td>32.0</td>\n",
       "      <td>31.0</td>\n",
       "      <td>he</td>\n",
       "      <td>2</td>\n",
       "      <td>8828</td>\n",
       "    </tr>\n",
       "    <tr>\n",
       "      <th>101948</th>\n",
       "      <td>11180_4</td>\n",
       "      <td>1</td>\n",
       "      <td>1</td>\n",
       "      <td>180</td>\n",
       "      <td>line 3 part 3</td>\n",
       "      <td>TEX_R1S1_bg.png</td>\n",
       "      <td>TEX_R1S1_text.txt</td>\n",
       "      <td>614.0</td>\n",
       "      <td>86</td>\n",
       "      <td>710.215115</td>\n",
       "      <td>124.706975</td>\n",
       "      <td>719.5</td>\n",
       "      <td>104.0</td>\n",
       "      <td>86.0</td>\n",
       "      <td>31.0</td>\n",
       "      <td>landed</td>\n",
       "      <td>6</td>\n",
       "      <td>4</td>\n",
       "    </tr>\n",
       "  </tbody>\n",
       "</table>\n",
       "</div>"
      ],
      "text/plain": [
       "          index  round  session  participant      line_part    stimuli_image  \\\n",
       "101944  11180_0      1        1          180  line 3 part 2  TEX_R1S1_bg.png   \n",
       "101945  11180_1      1        1          180  line 3 part 3  TEX_R1S1_bg.png   \n",
       "101946  11180_2      1        1          180  line 4 part 1  TEX_R1S1_bg.png   \n",
       "101947  11180_3      1        1          180  line 3 part 2  TEX_R1S1_bg.png   \n",
       "101948  11180_4      1        1          180  line 3 part 3  TEX_R1S1_bg.png   \n",
       "\n",
       "             stimuli_text  timestamp  duration      x_cord      y_cord  aoi_x  \\\n",
       "101944  TEX_R1S1_text.txt      527.0        95  713.897897  131.287367  684.5   \n",
       "101945  TEX_R1S1_text.txt      527.0        95  713.897897  131.287367  719.5   \n",
       "101946  TEX_R1S1_text.txt      527.0        95  713.897897  131.287367  583.5   \n",
       "101947  TEX_R1S1_text.txt      614.0        86  710.215115  124.706975  684.5   \n",
       "101948  TEX_R1S1_text.txt      614.0        86  710.215115  124.706975  719.5   \n",
       "\n",
       "        aoi_y  aoi_width  aoi_height       token  length  CobMln  \n",
       "101944  104.0       32.0        31.0          he       2    8828  \n",
       "101945  104.0       86.0        31.0      landed       6       4  \n",
       "101946  137.0      141.0        32.0  supporting      10      20  \n",
       "101947  104.0       32.0        31.0          he       2    8828  \n",
       "101948  104.0       86.0        31.0      landed       6       4  "
      ]
     },
     "execution_count": 4,
     "metadata": {},
     "output_type": "execute_result"
    }
   ],
   "source": [
    "df.head()"
   ]
  },
  {
   "cell_type": "code",
   "execution_count": 5,
   "metadata": {},
   "outputs": [],
   "source": [
    "data = df[['duration', 'x_cord', 'y_cord']]\n",
    "target = df['participant']"
   ]
  },
  {
   "cell_type": "code",
   "execution_count": 6,
   "metadata": {},
   "outputs": [],
   "source": [
    "# Create correlation matrix\n",
    "corr_matrix = data.corr().abs()\n",
    "\n",
    "# Select upper triangle of correlation matrix\n",
    "upper = corr_matrix.where(np.triu(np.ones(corr_matrix.shape), k=1).astype(np.bool))\n",
    "\n",
    "# Find index of feature columns with correlation greater than 0.95\n",
    "to_drop = [column for column in upper.columns if any(upper[column] > 0.95)]"
   ]
  },
  {
   "cell_type": "code",
   "execution_count": 7,
   "metadata": {},
   "outputs": [],
   "source": [
    "data = data.drop(data[to_drop], axis=1)"
   ]
  },
  {
   "cell_type": "code",
   "execution_count": 8,
   "metadata": {},
   "outputs": [],
   "source": [
    "data = pd.DataFrame(data=StandardScaler().fit_transform(data), columns=data.columns, index=data.index)"
   ]
  },
  {
   "cell_type": "code",
   "execution_count": 9,
   "metadata": {},
   "outputs": [
    {
     "data": {
      "text/html": [
       "<div>\n",
       "<style scoped>\n",
       "    .dataframe tbody tr th:only-of-type {\n",
       "        vertical-align: middle;\n",
       "    }\n",
       "\n",
       "    .dataframe tbody tr th {\n",
       "        vertical-align: top;\n",
       "    }\n",
       "\n",
       "    .dataframe thead th {\n",
       "        text-align: right;\n",
       "    }\n",
       "</style>\n",
       "<table border=\"1\" class=\"dataframe\">\n",
       "  <thead>\n",
       "    <tr style=\"text-align: right;\">\n",
       "      <th></th>\n",
       "      <th>duration</th>\n",
       "      <th>x_cord</th>\n",
       "      <th>y_cord</th>\n",
       "    </tr>\n",
       "  </thead>\n",
       "  <tbody>\n",
       "    <tr>\n",
       "      <th>101944</th>\n",
       "      <td>-1.152900</td>\n",
       "      <td>-0.860047</td>\n",
       "      <td>-1.168537</td>\n",
       "    </tr>\n",
       "    <tr>\n",
       "      <th>101945</th>\n",
       "      <td>-1.152900</td>\n",
       "      <td>-0.860047</td>\n",
       "      <td>-1.168537</td>\n",
       "    </tr>\n",
       "    <tr>\n",
       "      <th>101946</th>\n",
       "      <td>-1.152900</td>\n",
       "      <td>-0.860047</td>\n",
       "      <td>-1.168537</td>\n",
       "    </tr>\n",
       "    <tr>\n",
       "      <th>101947</th>\n",
       "      <td>-1.269569</td>\n",
       "      <td>-0.884841</td>\n",
       "      <td>-1.190626</td>\n",
       "    </tr>\n",
       "    <tr>\n",
       "      <th>101948</th>\n",
       "      <td>-1.269569</td>\n",
       "      <td>-0.884841</td>\n",
       "      <td>-1.190626</td>\n",
       "    </tr>\n",
       "  </tbody>\n",
       "</table>\n",
       "</div>"
      ],
      "text/plain": [
       "        duration    x_cord    y_cord\n",
       "101944 -1.152900 -0.860047 -1.168537\n",
       "101945 -1.152900 -0.860047 -1.168537\n",
       "101946 -1.152900 -0.860047 -1.168537\n",
       "101947 -1.269569 -0.884841 -1.190626\n",
       "101948 -1.269569 -0.884841 -1.190626"
      ]
     },
     "execution_count": 9,
     "metadata": {},
     "output_type": "execute_result"
    }
   ],
   "source": [
    "data.head()"
   ]
  },
  {
   "cell_type": "code",
   "execution_count": 10,
   "metadata": {},
   "outputs": [],
   "source": [
    "train_data, test_data, train_target, test_target = train_test_split(data, target, test_size=0.2)"
   ]
  },
  {
   "cell_type": "code",
   "execution_count": 11,
   "metadata": {},
   "outputs": [
    {
     "name": "stdout",
     "output_type": "stream",
     "text": [
      "train data: (8995, 3)\n",
      "train data: (2249, 3)\n",
      "train target: (8995,)\n",
      "test target: (2249,)\n"
     ]
    }
   ],
   "source": [
    "print(\"train data:\", train_data.shape)\n",
    "print(\"train data:\", test_data.shape)\n",
    "print('train target:', train_target.shape)\n",
    "print('test target:', test_target.shape)"
   ]
  },
  {
   "cell_type": "code",
   "execution_count": 12,
   "metadata": {},
   "outputs": [],
   "source": [
    "from sklearn.model_selection import train_test_split\n",
    "from sklearn.preprocessing import StandardScaler\n",
    "from sklearn.datasets import make_moons, make_circles, make_classification\n",
    "from sklearn.neural_network import MLPClassifier\n",
    "from sklearn.neighbors import KNeighborsClassifier\n",
    "from sklearn.svm import SVC\n",
    "from sklearn.gaussian_process import GaussianProcessClassifier\n",
    "from sklearn.gaussian_process.kernels import RBF\n",
    "from sklearn.tree import DecisionTreeClassifier\n",
    "from sklearn.ensemble import RandomForestClassifier, AdaBoostClassifier\n",
    "from sklearn.naive_bayes import GaussianNB\n",
    "from sklearn.discriminant_analysis import QuadraticDiscriminantAnalysis\n",
    "\n",
    "from sklearn.metrics import plot_confusion_matrix\n",
    "\n",
    "from tqdm import tqdm"
   ]
  },
  {
   "cell_type": "code",
   "execution_count": 13,
   "metadata": {},
   "outputs": [],
   "source": [
    "names = [\"Nearest\\nNeighbors\", \"Linear\\nSVM\", \"RBF\\nSVM\",\n",
    "         \"Decision\\nTree\", \"Random\\nForest\", \"Neural\\nNetwork\", \"AdaBoost\",\n",
    "         \"Naive\\nBayes\"]\n",
    "\n",
    "classifiers = [\n",
    "    KNeighborsClassifier(5),\n",
    "    SVC(kernel=\"linear\", C=0.025),\n",
    "    SVC(gamma=2, C=1),\n",
    "    DecisionTreeClassifier(max_depth=5),\n",
    "    RandomForestClassifier(max_depth=5),\n",
    "    MLPClassifier(alpha=1, max_iter=1000),\n",
    "    AdaBoostClassifier(),\n",
    "    GaussianNB()]"
   ]
  },
  {
   "cell_type": "code",
   "execution_count": 14,
   "metadata": {},
   "outputs": [
    {
     "name": "stderr",
     "output_type": "stream",
     "text": [
      "8it [01:19,  9.90s/it]\n"
     ]
    }
   ],
   "source": [
    "accuracy, precision, recall, f1, confusion = [], [], [], [], []\n",
    "\n",
    "for name, clf in tqdm(zip(names, classifiers)):\n",
    "    train_data, test_data, train_target, test_target = train_test_split(data, target, test_size=0.25)\n",
    "    clf.fit(train_data, train_target)\n",
    "    \n",
    "    accuracy.append(statistics.mean(cross_val_score(clf, train_data, train_target, cv=10, scoring=\"accuracy\")))\n",
    "    \n",
    "    test_predict = cross_val_predict(clf, test_data, test_target, cv=10)\n",
    "    precision.append(precision_score(test_target, test_predict, pos_label=180))\n",
    "    recall.append(recall_score(test_target, test_predict, pos_label=180))\n",
    "    f1.append(f1_score(test_target, test_predict, pos_label=180))\n",
    "    \n",
    "    confusion.append(confusion_matrix(test_target, test_predict))"
   ]
  },
  {
   "cell_type": "code",
   "execution_count": 15,
   "metadata": {},
   "outputs": [
    {
     "data": {
      "image/png": "[encoded data removed]",
      "text/plain": [
       "<Figure size 1296x576 with 1 Axes>"
      ]
     },
     "metadata": {
      "needs_background": "light"
     },
     "output_type": "display_data"
    }
   ],
   "source": [
    "plt.rcParams[\"font.family\"] = \"Helvetica\"\n",
    "\n",
    "fig, ax = plt.subplots(figsize=(18,8))\n",
    "\n",
    "ax.plot(names, accuracy, label='Accuracy score')\n",
    "ax.plot(names, precision, linestyle='dashed', label='Precision score')\n",
    "ax.plot(names, recall, linestyle='dashed', label='Recall score')\n",
    "ax.plot(names, f1, linestyle='dashed', label='F1 score')\n",
    "\n",
    "ax.scatter(names, accuracy)\n",
    "ax.scatter(names, precision)\n",
    "ax.scatter(names, recall)\n",
    "ax.scatter(names, f1)\n",
    "ax.legend(frameon=True)\n",
    "plt.xticks(fontsize=13)\n",
    "\n",
    "plt.ylim((0.0,1.0))\n",
    "\n",
    "\n",
    "ax.set_title(\"Results in Subject Classification with Different Classifiers\", fontsize=18);"
   ]
  },
  {
   "cell_type": "code",
   "execution_count": 16,
   "metadata": {},
   "outputs": [
    {
     "data": {
      "text/plain": [
       "{'Nearest\\nNeighbors': 0.5798069784706755,\n",
       " 'Linear\\nSVM': 0.5527086383601757,\n",
       " 'RBF\\nSVM': 0.5747572815533981,\n",
       " 'Decision\\nTree': 0.5462485113140135,\n",
       " 'Random\\nForest': 0.6175386882829771,\n",
       " 'Neural\\nNetwork': 0.6061442871936487,\n",
       " 'AdaBoost': 0.5393988627132412,\n",
       " 'Naive\\nBayes': 0.6317103620474406}"
      ]
     },
     "execution_count": 16,
     "metadata": {},
     "output_type": "execute_result"
    }
   ],
   "source": [
    "dict(zip(names, f1))"
   ]
  },
  {
   "cell_type": "code",
   "execution_count": 18,
   "metadata": {},
   "outputs": [],
   "source": [
    "result = {\"first-order\": [accuracy, precision, recall, f1]}"
   ]
  },
  {
   "cell_type": "code",
   "execution_count": 20,
   "metadata": {},
   "outputs": [],
   "source": [
    "import json"
   ]
  },
  {
   "cell_type": "code",
   "execution_count": null,
   "metadata": {},
   "outputs": [],
   "source": []
  }
 ],
 "metadata": {
  "kernelspec": {
   "display_name": "Python 3",
   "language": "python",
   "name": "python3"
  },
  "language_info": {
   "codemirror_mode": {
    "name": "ipython",
    "version": 3
   },
   "file_extension": ".py",
   "mimetype": "text/x-python",
   "name": "python",
   "nbconvert_exporter": "python",
   "pygments_lexer": "ipython3",
   "version": "3.8.2"
  }
 },
 "nbformat": 4,
 "nbformat_minor": 4
}
